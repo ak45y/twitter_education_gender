{
 "cells": [
  {
   "cell_type": "code",
   "execution_count": 1,
   "id": "right-palestinian",
   "metadata": {
    "ExecuteTime": {
     "end_time": "2021-03-17T16:40:21.168057Z",
     "start_time": "2021-03-17T16:40:19.003297Z"
    },
    "execution": {
     "iopub.execute_input": "2021-03-06T01:11:37.082875Z",
     "iopub.status.busy": "2021-03-06T01:11:37.082593Z",
     "iopub.status.idle": "2021-03-06T01:11:39.737993Z",
     "shell.execute_reply": "2021-03-06T01:11:39.737539Z",
     "shell.execute_reply.started": "2021-03-06T01:11:37.082807Z"
    }
   },
   "outputs": [],
   "source": [
    "import pandas as pd\n",
    "import numpy as np\n",
    "import string\n",
    "import re\n",
    "from nltk.corpus import stopwords\n",
    "import nltk\n",
    "from nltk import word_tokenize, pos_tag\n",
    "import gensim\n",
    "import gensim.corpora as corpora\n",
    "from pprint import pprint\n",
    "import pyLDAvis.gensim\n",
    "import pyLDAvis\n",
    "import os\n",
    "from tqdm import tqdm\n",
    "from nltk.stem import WordNetLemmatizer, SnowballStemmer\n",
    "from gensim.models import CoherenceModel\n",
    "from gensim.models.wrappers import LdaMallet\n",
    "import matplotlib.pyplot as plt\n",
    "\n",
    "import warnings\n",
    "warnings.filterwarnings(\"ignore\", category=DeprecationWarning) "
   ]
  },
  {
   "cell_type": "markdown",
   "id": "alone-salad",
   "metadata": {},
   "source": [
    "## Load and Clean data"
   ]
  },
  {
   "cell_type": "code",
   "execution_count": 2,
   "id": "renewable-messenger",
   "metadata": {
    "ExecuteTime": {
     "end_time": "2021-03-17T16:40:22.236645Z",
     "start_time": "2021-03-17T16:40:21.169568Z"
    },
    "execution": {
     "iopub.execute_input": "2021-03-06T01:11:39.739355Z",
     "iopub.status.busy": "2021-03-06T01:11:39.739061Z",
     "iopub.status.idle": "2021-03-06T01:12:06.568345Z",
     "shell.execute_reply": "2021-03-06T01:12:06.566746Z",
     "shell.execute_reply.started": "2021-03-06T01:11:39.739318Z"
    }
   },
   "outputs": [],
   "source": [
    "twitter_df = pd.read_excel('./feminist_tweets_dataset_61.xlsx', engine='openpyxl')\n",
    "# twitter_df = twitter_df[twitter_df.lang == \"en\"]"
   ]
  },
  {
   "cell_type": "code",
   "execution_count": 3,
   "id": "unique-might",
   "metadata": {
    "ExecuteTime": {
     "end_time": "2021-03-17T16:40:22.251845Z",
     "start_time": "2021-03-17T16:40:22.237680Z"
    },
    "execution": {
     "iopub.execute_input": "2021-03-06T01:12:06.571069Z",
     "iopub.status.busy": "2021-03-06T01:12:06.570822Z",
     "iopub.status.idle": "2021-03-06T01:12:06.574150Z",
     "shell.execute_reply": "2021-03-06T01:12:06.573370Z",
     "shell.execute_reply.started": "2021-03-06T01:12:06.571042Z"
    }
   },
   "outputs": [],
   "source": [
    "# to-do - filter tweets by date\n",
    "text = twitter_df.text"
   ]
  },
  {
   "cell_type": "code",
   "execution_count": 4,
   "id": "everyday-combat",
   "metadata": {
    "ExecuteTime": {
     "end_time": "2021-03-17T16:40:22.266627Z",
     "start_time": "2021-03-17T16:40:22.254544Z"
    },
    "execution": {
     "iopub.execute_input": "2021-03-06T01:12:06.575977Z",
     "iopub.status.busy": "2021-03-06T01:12:06.575771Z",
     "iopub.status.idle": "2021-03-06T01:12:06.581601Z",
     "shell.execute_reply": "2021-03-06T01:12:06.580877Z",
     "shell.execute_reply.started": "2021-03-06T01:12:06.575954Z"
    }
   },
   "outputs": [],
   "source": [
    "def clean_data(text):\n",
    "    clean_text = text.replace('&amp;', 'and')\n",
    "    # removing handle names\n",
    "    clean_text = clean_text.replace('@[^\\s]+', '', regex=True)\n",
    "    # remove non-ASCII characters\n",
    "    st = set(string.printable)\n",
    "    clean_text = clean_text.apply(lambda x: ''.join([\" \" if i not in st else i for i in x]))\n",
    "    # removing urls\n",
    "    clean_text = clean_text.replace(r'http\\S+', '', regex=True).replace(r'www\\S+', '', regex=True)\n",
    "    # converting to no caps\n",
    "    clean_text = clean_text.str.lower()\n",
    "    # replace non-alphabet characters with space\n",
    "    clean_text = clean_text.replace('[^a-zA-Z1-9 ]', ' ', regex=True)\n",
    "    # remove stopwords\n",
    "    clean_text = clean_text.apply(lambda x: ' '.join([word for word in x.split() if word not in (stopwords.words('english'))]))\n",
    "    return clean_text"
   ]
  },
  {
   "cell_type": "code",
   "execution_count": 5,
   "id": "sacred-mozambique",
   "metadata": {
    "ExecuteTime": {
     "end_time": "2021-03-17T16:41:22.879473Z",
     "start_time": "2021-03-17T16:40:22.268637Z"
    },
    "execution": {
     "iopub.execute_input": "2021-03-06T01:12:06.583202Z",
     "iopub.status.busy": "2021-03-06T01:12:06.582767Z"
    }
   },
   "outputs": [],
   "source": [
    "text = clean_data(text)"
   ]
  },
  {
   "cell_type": "markdown",
   "id": "aggregate-poverty",
   "metadata": {},
   "source": [
    "## Prepare text"
   ]
  },
  {
   "cell_type": "code",
   "execution_count": 6,
   "id": "limiting-wings",
   "metadata": {
    "ExecuteTime": {
     "end_time": "2021-03-17T16:41:22.894741Z",
     "start_time": "2021-03-17T16:41:22.880645Z"
    }
   },
   "outputs": [],
   "source": [
    "def sent_to_words(sentences):\n",
    "    stemmer = SnowballStemmer('english')\n",
    "    for sentence in tqdm(sentences):\n",
    "        is_noun_adj = lambda pos: pos[:2] == 'NN' or pos[:2] == 'JJ'\n",
    "        tokenized = word_tokenize(sentence)\n",
    "        all_nouns_adj = [word for (word, pos) in pos_tag(tokenized) if is_noun_adj(pos) and word != 'amp'] \n",
    "        lemmatized_tokens = [stemmer.stem(WordNetLemmatizer().lemmatize(word)) for word in all_nouns_adj]\n",
    "        sentence = \" \".join(lemmatized_tokens)\n",
    "        # deacc=True removes punctuations\n",
    "        yield(gensim.utils.simple_preprocess(str(sentence), deacc=True))"
   ]
  },
  {
   "cell_type": "code",
   "execution_count": 7,
   "id": "fantastic-extreme",
   "metadata": {
    "ExecuteTime": {
     "end_time": "2021-03-17T16:41:39.782837Z",
     "start_time": "2021-03-17T16:41:22.898327Z"
    },
    "scrolled": false
   },
   "outputs": [
    {
     "name": "stderr",
     "output_type": "stream",
     "text": [
      "100%|█████████████████████████████████████████████████████████████████████████████| 9061/9061 [00:16<00:00, 536.93it/s]\n"
     ]
    }
   ],
   "source": [
    "# convert sentences to list of words per sentence\n",
    "words_sent_list = list(sent_to_words(text))"
   ]
  },
  {
   "cell_type": "code",
   "execution_count": 8,
   "id": "convinced-preparation",
   "metadata": {
    "ExecuteTime": {
     "end_time": "2021-03-17T16:41:40.618205Z",
     "start_time": "2021-03-17T16:41:39.784840Z"
    }
   },
   "outputs": [
    {
     "name": "stderr",
     "output_type": "stream",
     "text": [
      "100%|█████████████████████████████████████████████████████████████████████████| 9061/9061 [00:00<00:00, 2260428.75it/s]\n"
     ]
    }
   ],
   "source": [
    "# create bigrams - for words that commonly occur together\n",
    "bigram = gensim.models.Phrases(words_sent_list, min_count=20, threshold=100) # higher threshold fewer phrases.\n",
    "bigram_mod = gensim.models.phrases.Phraser(bigram)\n",
    "\n",
    "bigram_words_list_ = [bigram_mod[doc] for doc in words_sent_list]\n",
    "# bigram_words_list = [list_ for list_ in bigram_words_list_ if list_ != []]\n",
    "\n",
    "index_list = []\n",
    "bigram_words_list = []\n",
    "    \n",
    "for i, list_ in enumerate(tqdm(bigram_words_list_)):\n",
    "    if list_ != []:\n",
    "        index_list.append(i)\n",
    "        bigram_words_list.append(list_)"
   ]
  },
  {
   "cell_type": "code",
   "execution_count": 9,
   "id": "accepted-muscle",
   "metadata": {
    "ExecuteTime": {
     "end_time": "2021-03-17T16:41:40.865220Z",
     "start_time": "2021-03-17T16:41:40.620632Z"
    }
   },
   "outputs": [],
   "source": [
    "# create Dictionary\n",
    "id2word = corpora.Dictionary(bigram_words_list)\n",
    "\n",
    "# Term Document Frequency\n",
    "corpus = [id2word.doc2bow(text) for text in bigram_words_list]"
   ]
  },
  {
   "cell_type": "code",
   "execution_count": 10,
   "id": "foreign-fields",
   "metadata": {
    "ExecuteTime": {
     "end_time": "2021-03-17T16:41:40.881144Z",
     "start_time": "2021-03-17T16:41:40.866346Z"
    }
   },
   "outputs": [
    {
     "data": {
      "text/plain": [
       "[[('african', 1),\n",
       "  ('alumna', 1),\n",
       "  ('american', 1),\n",
       "  ('announc', 1),\n",
       "  ('capitol', 1),\n",
       "  ('chief', 1),\n",
       "  ('david', 1),\n",
       "  ('dr', 1),\n",
       "  ('first', 1),\n",
       "  ('pittman', 1),\n",
       "  ('polic', 1),\n",
       "  ('role', 1),\n",
       "  ('wilson', 1),\n",
       "  ('woman', 1),\n",
       "  ('yogananda', 1)]]"
      ]
     },
     "execution_count": 10,
     "metadata": {},
     "output_type": "execute_result"
    }
   ],
   "source": [
    "[[(id2word[id], freq) for id, freq in cp] for cp in corpus[:1]]"
   ]
  },
  {
   "cell_type": "markdown",
   "id": "egyptian-portsmouth",
   "metadata": {},
   "source": [
    "## LDA Mallet"
   ]
  },
  {
   "cell_type": "code",
   "execution_count": 11,
   "id": "former-heather",
   "metadata": {
    "ExecuteTime": {
     "end_time": "2021-03-17T16:41:40.896849Z",
     "start_time": "2021-03-17T16:41:40.882725Z"
    }
   },
   "outputs": [],
   "source": [
    "# os.environ['MALLET_HOME']='C:\\\\Users\\\\arnab\\\\OneDrive\\\\Desktop\\\\mallet-2.0.8\\\\' \n",
    "# mallet_path = 'C:\\\\Users\\\\arnab\\\\OneDrive\\\\Desktop\\\\mallet-2.0.8\\\\bin\\\\mallet'\n",
    "\n",
    "# os.environ['MALLET_HOME']='C:\\\\mallet' \n",
    "mallet_path = 'C:\\\\mallet\\\\bin\\\\mallet'"
   ]
  },
  {
   "cell_type": "code",
   "execution_count": 12,
   "id": "selective-commander",
   "metadata": {
    "ExecuteTime": {
     "end_time": "2021-03-17T16:41:40.912505Z",
     "start_time": "2021-03-17T16:41:40.898674Z"
    }
   },
   "outputs": [],
   "source": [
    "def compute_coherence_values(dictionary, corpus, texts, limit, start, step):\n",
    "    coherence_values = []\n",
    "    model_list = []\n",
    "    for num_topics in tqdm(range(start, limit, step)):\n",
    "        model=LdaMallet(mallet_path, corpus=corpus, num_topics=num_topics, id2word=id2word, iterations = 300, random_seed=12345)\n",
    "        model_list.append(model)\n",
    "        coherence_model_ldamallet = CoherenceModel(model=model, texts=texts, dictionary=id2word, coherence='c_v')\n",
    "        coherence_values.append(coherence_model_ldamallet.get_coherence())\n",
    "\n",
    "    return model_list, coherence_values"
   ]
  },
  {
   "cell_type": "code",
   "execution_count": 13,
   "id": "changing-hayes",
   "metadata": {
    "ExecuteTime": {
     "end_time": "2021-03-17T16:41:40.928586Z",
     "start_time": "2021-03-17T16:41:40.914491Z"
    }
   },
   "outputs": [],
   "source": [
    "# import pickle\n",
    "\n",
    "# with open('model_list.pkl', 'rb') as f:\n",
    "#     model_list = pickle.load(f)\n",
    "    \n",
    "# with open('coherence_values.pkl', 'rb') as f:\n",
    "#     coherence_values = pickle.load(f)"
   ]
  },
  {
   "cell_type": "code",
   "execution_count": 14,
   "id": "essential-merit",
   "metadata": {
    "ExecuteTime": {
     "end_time": "2021-03-17T16:49:30.982114Z",
     "start_time": "2021-03-17T16:41:40.931133Z"
    }
   },
   "outputs": [
    {
     "name": "stderr",
     "output_type": "stream",
     "text": [
      "100%|██████████████████████████████████████████████████████████████████████████████████| 17/17 [07:50<00:00, 27.65s/it]\n"
     ]
    }
   ],
   "source": [
    "model_list, coherence_values = compute_coherence_values(dictionary=id2word, corpus=corpus, texts=bigram_words_list, limit=20, start=3, step=1)"
   ]
  },
  {
   "cell_type": "code",
   "execution_count": 15,
   "id": "bibliographic-counter",
   "metadata": {
    "ExecuteTime": {
     "end_time": "2021-03-17T16:49:30.998082Z",
     "start_time": "2021-03-17T16:49:30.984388Z"
    }
   },
   "outputs": [],
   "source": [
    "# import pickle\n",
    "\n",
    "# with open('model_list.pkl', 'wb') as f:\n",
    "#     pickle.dump(model_list, f)\n",
    "    \n",
    "# with open('coherence_values.pkl', 'wb') as f:\n",
    "#     pickle.dump(coherence_values, f)"
   ]
  },
  {
   "cell_type": "code",
   "execution_count": 16,
   "id": "japanese-radiation",
   "metadata": {
    "ExecuteTime": {
     "end_time": "2021-03-17T16:49:31.230893Z",
     "start_time": "2021-03-17T16:49:31.001061Z"
    }
   },
   "outputs": [
    {
     "data": {
      "text/plain": [
       "<matplotlib.legend.Legend at 0x1a920ffd580>"
      ]
     },
     "execution_count": 16,
     "metadata": {},
     "output_type": "execute_result"
    },
    {
     "data": {
      "image/png": "[encoded data removed]",
      "text/plain": [
       "<Figure size 432x288 with 1 Axes>"
      ]
     },
     "metadata": {
      "needs_background": "light"
     },
     "output_type": "display_data"
    }
   ],
   "source": [
    "# # Show graph\n",
    "limit=20; start=3; step=1;\n",
    "x = range(start, limit, step)\n",
    "plt.plot(x, coherence_values)\n",
    "plt.xlabel(\"Number of Topics\")\n",
    "plt.ylabel(\"Coherence Score\")\n",
    "plt.legend((\"coherence_values\"), loc='best')"
   ]
  },
  {
   "cell_type": "code",
   "execution_count": 17,
   "id": "labeled-cattle",
   "metadata": {
    "ExecuteTime": {
     "end_time": "2021-03-17T16:51:10.880893Z",
     "start_time": "2021-03-17T16:50:49.229168Z"
    },
    "scrolled": false
   },
   "outputs": [
    {
     "name": "stderr",
     "output_type": "stream",
     "text": [
      "C:\\ProgramFiles\\anaconda3\\envs\\twitter\\lib\\site-packages\\pyLDAvis\\_prepare.py:223: RuntimeWarning: divide by zero encountered in log\n",
      "  kernel = (topic_given_term * np.log((topic_given_term.T / topic_proportion).T))\n",
      "C:\\ProgramFiles\\anaconda3\\envs\\twitter\\lib\\site-packages\\pyLDAvis\\_prepare.py:240: RuntimeWarning: divide by zero encountered in log\n",
      "  log_lift = np.log(topic_term_dists / term_proportion)\n",
      "C:\\ProgramFiles\\anaconda3\\envs\\twitter\\lib\\site-packages\\pyLDAvis\\_prepare.py:241: RuntimeWarning: divide by zero encountered in log\n",
      "  log_ttd = np.log(topic_term_dists)\n"
     ]
    },
    {
     "data": {
      "text/html": [
       "\n",
       "<link rel=\"stylesheet\" type=\"text/css\" href=\"https://cdn.rawgit.com/bmabey/pyLDAvis/files/ldavis.v1.0.0.css\">\n",
       "\n",
       "\n",
       "<div id=\"ldavis_el1522418259132988326669600551\"></div>\n",
       "<script type=\"text/javascript\">\n",
       "\n",
       "var ldavis_el1522418259132988326669600551_data = {\"mdsDat\": {\"x\": [-0.19319942292253642, 0.16595872855334415, 0.140330596371932, -0.027460152409989527, -0.2518521575177412, 0.11580839856774867, 0.14746413588999976, 0.24538931767509942, -0.2671045997017037, -0.07533484450615269], \"y\": [-0.32715056368439016, 0.024330322190205967, -0.09241362156992394, -0.22850591038016788, 0.1649809101503788, 0.13095131533401827, 0.08172993983781653, 0.05179703957118174, 0.23095675634537668, -0.03667618779449567], \"topics\": [1, 2, 3, 4, 5, 6, 7, 8, 9, 10], \"cluster\": [1, 1, 1, 1, 1, 1, 1, 1, 1, 1], \"Freq\": [10.128040480915846, 10.054570602666784, 10.037440720608567, 10.020520863091578, 10.005448203780286, 9.991666099628734, 9.97566434202239, 9.95951437572508, 9.927644872419805, 9.899489439140932]}, \"tinfo\": {\"Term\": [\"educ\", \"woman\", \"girl\", \"covid\", \"young\", \"gender\", \"child\", \"school\", \"equal\", \"world\", \"crisi\", \"support\", \"communiti\", \"endchildmarriag\", \"violenc\", \"year\", \"join\", \"peopl\", \"futur\", \"leader\", \"life\", \"marriag\", \"mani\", \"girlsfirstfund\", \"pandem\", \"respons\", \"generationequ\", \"safe\", \"boy\", \"impact\", \"oct\", \"reduct\", \"gresp\", \"fatma\", \"educate_equ\", \"reimagin\", \"eie\", \"ungei\", \"genkit\", \"sensit\", \"assess\", \"flexalumni\", \"deliv\", \"jr\", \"accomplish\", \"blackgirlsrock\", \"cc\", \"decemb\", \"behalf\", \"poorer\", \"nivaal\", \"promin\", \"teacher\", \"guid\", \"revitalis\", \"pan\", \"damag\", \"tireless\", \"mp\", \"rank\", \"gender\", \"equal\", \"qualiti\", \"movement\", \"poverti\", \"commit\", \"justic\", \"learner\", \"educatetoempow\", \"advanc\", \"environ\", \"mission\", \"watch\", \"saveourfutur\", \"real\", \"forum\", \"promot\", \"drive\", \"vision\", \"feminist\", \"eat\", \"minist\", \"insight\", \"limit\", \"receiv\", \"intergener\", \"econom\", \"transformeduc\", \"equiti\", \"inequ\", \"session\", \"recoveri\", \"educ\", \"chang\", \"highlight\", \"learn\", \"sign\", \"climat\", \"key\", \"stand\", \"power\", \"progress\", \"world\", \"azaadi\", \"toughest\", \"girlhood\", \"pose\", \"calltoactiongbv\", \"janti\", \"eglantyn\", \"jebb\", \"zira\", \"stress\", \"clarenc\", \"trip\", \"obaidur\", \"sukaina\", \"perman\", \"exp\", \"columbus\", \"latina\", \"angri\", \"character\", \"ty\", \"barriers\", \"ece\", \"visual\", \"paullin\", \"womenvet\", \"rima\", \"lubna\", \"spotifi\", \"appl\", \"covid\", \"crisi\", \"pandem\", \"impact\", \"risk\", \"vulner\", \"call\", \"pleas\", \"conflict_displac\", \"emerg\", \"agre\", \"coronavirus\", \"servic\", \"natur_disast\", \"essenti\", \"safeti\", \"huge\", \"donor\", \"measur\", \"closur\", \"open\", \"context\", \"prioriti\", \"rt\", \"decad\", \"ecwresult\", \"public\", \"protract\", \"central\", \"conflict\", \"boy\", \"respons\", \"sector\", \"health\", \"action\", \"partner\", \"girl\", \"child\", \"effect\", \"fund\", \"hatau\", \"matern\", \"hibo\", \"yemen\", \"pen\", \"fact\", \"younger\", \"saroj\", \"annisa\", \"jose\", \"galleri\", \"reveal\", \"solvingit\", \"geneva\", \"christoph\", \"price\", \"rohingya\", \"gay\", \"criminalis\", \"overcom\", \"civilright\", \"comput\", \"ballot\", \"afoo\", \"secret\", \"recip\", \"newslett\", \"cost\", \"suppress\", \"infant\", \"generationequ\", \"africa\", \"generat\", \"secondari\", \"iamthe_stgirl\", \"refuge\", \"femal\", \"director\", \"resourc\", \"beijing\", \"ecw\", \"african\", \"free\", \"show\", \"posit\", \"gap\", \"increas\", \"reach\", \"discrimin\", \"primari\", \"area\", \"class\", \"form\", \"cultur\", \"drop\", \"enrol\", \"exclus\", \"level\", \"addit\", \"humanitarian\", \"barrier\", \"region\", \"secur\", \"programm\", \"access\", \"resili\", \"countri\", \"data\", \"report\", \"effort\", \"girl\", \"rural\", \"allmeansal\", \"read\", \"educ\", \"juli\", \"administr\", \"arv\", \"jane\", \"spark\", \"stake\", \"applaud\", \"task\", \"london\", \"socio\", \"launch\", \"thoma\", \"luxuri\", \"intersect\", \"gdp\", \"debat\", \"ivi\", \"srh\", \"ideof\", \"gop\", \"biden\", \"corona\", \"af\", \"uniqu\", \"henc\", \"takeaway\", \"nkula\", \"demo\", \"north\", \"coalit\", \"join\", \"futur\", \"global\", \"challeng\", \"inclus\", \"disabl\", \"webinar\", \"regist\", \"discuss\", \"live\", \"tomorrow\", \"genderequ\", \"convers\", \"men\", \"continu\", \"stem\", \"sustain\", \"uk\", \"higher\", \"virtual\", \"awar\", \"polit\", \"return\", \"special\", \"union\", \"date\", \"summit\", \"field\", \"kenya\", \"fight\", \"creat\", \"innov\", \"high\", \"contribut\", \"iwd\", \"solut\", \"today\", \"educ\", \"system\", \"girlseduc\", \"girl\", \"invest\", \"tabl\", \"girlswhocod\", \"negoti\", \"wfp\", \"peac\", \"status_quo\", \"menstrual\", \"consequ\", \"indian\", \"empower\", \"specif\", \"offici\", \"endfgm\", \"hygien\", \"sanit\", \"conduct\", \"panel\", \"karamoja\", \"urg\", \"januari\", \"farm\", \"sleep\", \"credit\", \"strive\", \"passeng\", \"cox\", \"proof\", \"mass\", \"rhschelsea\", \"method\", \"year\", \"govern\", \"program\", \"role\", \"intern\", \"busi\", \"adolesc\", \"univers\", \"recommend\", \"pregnant\", \"find\", \"play\", \"talk\", \"news\", \"womeninsci\", \"day\", \"economi\", \"water\", \"congratul\", \"manag\", \"understand\", \"presid\", \"mark\", \"interest\", \"celebr\", \"leadership\", \"scienc\", \"week\", \"woman\", \"month\", \"project\", \"work\", \"partnership\", \"post\", \"today\", \"develop\", \"empow\", \"health\", \"polici\", \"lag\", \"pielive\", \"infract\", \"adaku\", \"edpolici\", \"mentalhealth\", \"insurmount\", \"compil\", \"chairwoman\", \"shoot\", \"storm\", \"conspiraci\", \"theori\", \"murray\", \"oregon\", \"lawsuit\", \"chesterman\", \"outrag\", \"unquantifi\", \"height\", \"happywomensday\", \"numer\", \"relay\", \"hbcus\", \"texa\", \"srgbv\", \"sgbv\", \"multistakehold\", \"pillar\", \"endsrgbv\", \"violenc\", \"safe\", \"famili\", \"issu\", \"transform\", \"togetherwecan\", \"sexual\", \"societi\", \"decis\", \"case\", \"place\", \"address\", \"group\", \"prevent\", \"make\", \"approach\", \"domest\", \"job\", \"caus\", \"confid\", \"difficult\", \"ident\", \"passion\", \"agenc\", \"engag\", \"amaz\", \"journey\", \"individu\", \"expert\", \"particip\", \"space\", \"benefit\", \"full\", \"thing\", \"communiti\", \"end\", \"vital\", \"voic\", \"support\", \"time\", \"school\", \"girl\", \"blog\", \"work\", \"nation\", \"girlseduc\", \"kpk\", \"erden\", \"subscrib\", \"cio\", \"usaid\", \"hasab\", \"tsehai\", \"djiboutian\", \"gupta\", \"archiv\", \"alleg\", \"mind\", \"llm\", \"justiceacceler\", \"iew\", \"klye\", \"favorit\", \"blackgirlmag\", \"globalideathon\", \"socialstudi\", \"csedweek\", \"mari\", \"intent\", \"sens\", \"materi\", \"homag\", \"super\", \"realtalk\", \"bulli\", \"writeshop\", \"marriag\", \"mani\", \"parent\", \"stori\", \"protect\", \"earli\", \"stay\", \"home\", \"messag\", \"latest\", \"exploit\", \"due\", \"pregnanc\", \"local\", \"good\", \"age\", \"care\", \"globe\", \"someon\", \"affect\", \"radio\", \"ug\", \"hard\", \"concern\", \"malawi\", \"pakistan\", \"color\", \"teenag_pregnanc\", \"staysafeug\", \"bangladesh\", \"food\", \"mother\", \"face\", \"hope\", \"gbv\", \"classroom\", \"lockdown\", \"video\", \"child\", \"share\", \"import\", \"forc\", \"victim\", \"school\", \"girl\", \"million\", \"system\", \"polici\", \"jinnah\", \"bhagyashri\", \"white\", \"edelman\", \"pt\", \"alessandra\", \"footbal\", \"floor\", \"unaccept\", \"threat\", \"unplan\", \"sandhya\", \"soeripto\", \"alon\", \"eilish\", \"didyouknow\", \"pd\", \"assert\", \"zone\", \"admit\", \"nationwid\", \"restor\", \"dismantl\", \"arrest\", \"defiant\", \"belief\", \"stressor\", \"disciplin\", \"extern\", \"suspens\", \"student\", \"social\", \"onlin\", \"black\", \"experi\", \"abus\", \"complet\", \"harm\", \"freetobeonlin\", \"medium\", \"studi\", \"stereotyp\", \"person\", \"law\", \"recent\", \"realiti\", \"situat\", \"major\", \"act\", \"racial\", \"household\", \"dispar\", \"top\", \"piec\", \"idea\", \"peer\", \"injustic\", \"bias\", \"schooldisciplin\", \"platform\", \"harass\", \"research\", \"step\", \"crucial\", \"meet\", \"focus\", \"school\", \"girl\", \"norm\", \"activ\", \"action\", \"countri\", \"report\", \"invest\", \"sabaq\", \"cours\", \"shapetheworld\", \"roch\", \"awe\", \"youssouf\", \"grimm\", \"fla\", \"fresh\", \"shower\", \"hair\", \"afsarch\", \"afsusa\", \"exchangestud\", \"earthdayweek\", \"sabrina\", \"capac\", \"expertis\", \"competit\", \"devot\", \"scorecard\", \"otd\", \"dear\", \"preced\", \"waltj\", \"stemthegap\", \"mlkday\", \"dropout\", \"equalworld\", \"murder\", \"young\", \"part\", \"peopl\", \"activist\", \"associ\", \"lead\", \"period\", \"member\", \"critic\", \"menstruat\", \"full_potenti\", \"proud\", \"seri\", \"organ\", \"break\", \"achiev\", \"train\", \"discus\", \"mondaymotiv\", \"intergener_dialogu\", \"reason\", \"initi\", \"digniti\", \"close\", \"normal\", \"friend\", \"product\", \"ghana\", \"divid\", \"ceo\", \"camf\", \"youth\", \"thrive\", \"donat\", \"digit\", \"skill\", \"leader\", \"champion\", \"support\", \"woman\", \"time\", \"communiti\", \"precis\", \"giant\", \"breakdown\", \"refresh\", \"command\", \"artemi\", \"suffrag\", \"exhibit\", \"ultim\", \"connected\", \"evan\", \"secretariat\", \"prosper\", \"radicalinclus\", \"fundeduc\", \"king\", \"wright\", \"merci\", \"seiz\", \"letstalkeup\", \"vibe\", \"incap\", \"megha\", \"roundup\", \"ixchel\", \"galvanis\", \"hatwood\", \"coordin\", \"educateforequ\", \"foot\", \"endchildmarriag\", \"girlsfirstfund\", \"childmarriag\", \"life\", \"differ\", \"campaign\", \"opportun\", \"dream\", \"uganda\", \"team\", \"abl\", \"everyon\", \"gpe\", \"speak\", \"encourag\", \"raiseyourhand\", \"hand\", \"vowforgirl\", \"violat\", \"result\", \"stakehold\", \"chanc\", \"potenti\", \"strategi\", \"isingiro_district\", \"agenda\", \"unga\", \"becom\", \"advocaci\", \"dayofthegirl\", \"district\", \"possibl\", \"human\", \"inform\", \"world\", \"happi\", \"appreci\", \"practic\", \"progress\", \"great\", \"power\", \"girl\", \"leader\"], \"Freq\": [3327.0, 2638.0, 7004.0, 1573.0, 1517.0, 1473.0, 1705.0, 2308.0, 808.0, 897.0, 692.0, 948.0, 838.0, 626.0, 623.0, 569.0, 564.0, 550.0, 512.0, 614.0, 454.0, 448.0, 427.0, 422.0, 422.0, 469.0, 407.0, 372.0, 403.0, 369.0, 25.565127093949556, 9.203445753821839, 3.0678152512739465, 3.0678152512739465, 105.32832362707217, 15.339076256369735, 3.0678152512739465, 18.406891507643678, 5.113025418789912, 62.37891010923692, 6.135630502547893, 3.0678152512739465, 20.452101675159646, 3.0678152512739465, 6.135630502547893, 3.0678152512739465, 23.51991692643359, 12.271261005095786, 14.316471172611752, 7.158235586305876, 5.113025418789912, 6.135630502547893, 249.51564043694768, 160.54899815000323, 3.0678152512739465, 12.271261005095786, 5.113025418789912, 5.113025418789912, 5.113025418789912, 3.0678152512739465, 1473.5739256952525, 808.8806212525639, 242.3574048506418, 169.75244390382505, 146.23252697739144, 140.09689647484356, 129.87084563726376, 127.82563546974778, 108.39613887834611, 100.21529820828225, 77.71798636560665, 71.58235586305875, 132.9386608885377, 58.28848977420499, 56.24327960668903, 55.220674522931034, 53.17546435541507, 48.06243893662516, 40.90420335031929, 36.813783015287356, 34.768572847771395, 32.723362680255434, 31.70075759649745, 28.632942345223505, 27.610337261465517, 26.587732177707537, 121.6900049671999, 89.98924737070243, 57.26588469044701, 131.91605580477972, 68.51454061178481, 62.37891010923692, 2459.365226437947, 329.2788369700703, 76.69538128184867, 277.1259776984132, 80.7858016168806, 104.30571854331419, 116.57697954840998, 79.76319653312262, 150.3229473124234, 129.87084563726376, 148.2777371449074, 2.063972249550176, 4.127944499100352, 3.0959583743252646, 2.063972249550176, 1.031986124775088, 1.031986124775088, 2.063972249550176, 2.063972249550176, 1.031986124775088, 5.159930623875441, 1.031986124775088, 1.031986124775088, 1.031986124775088, 1.031986124775088, 8.255888998200705, 1.031986124775088, 1.031986124775088, 2.063972249550176, 1.031986124775088, 1.031986124775088, 1.031986124775088, 1.031986124775088, 1.031986124775088, 1.031986124775088, 1.031986124775088, 1.031986124775088, 3.0959583743252646, 2.063972249550176, 1.031986124775088, 1.031986124775088, 1560.3630206599335, 692.4626897240842, 422.08232503301105, 369.45103266948155, 341.5874073005542, 248.70865607079622, 192.98140533294148, 163.05380771446394, 143.44607134373726, 125.90230722256075, 121.77436272346041, 97.00669572885828, 173.3736689622148, 87.7188206058825, 85.65484835633232, 84.62286223155724, 75.33498710858143, 74.30300098380634, 71.20704260948108, 144.47805746851233, 69.1430703599309, 68.11108423515581, 66.04711198560564, 65.01512586083055, 62.951153611280375, 59.85519523695511, 55.72725073785476, 51.5993062387544, 49.53533398920423, 47.47136173965406, 388.0267829154331, 439.6260891541876, 63.98313973605547, 194.01339145771655, 230.13290582484464, 152.73394646671306, 816.3010246970948, 367.3870604199314, 94.94272347930811, 81.52690385723197, 1.051963517494253, 12.623562209931034, 1.051963517494253, 35.7667595948046, 1.051963517494253, 32.61086904232184, 5.2598175874712645, 1.051963517494253, 2.103927034988506, 1.051963517494253, 4.207854069977012, 3.1558905524827585, 1.051963517494253, 3.1558905524827585, 1.051963517494253, 9.467671657448276, 19.987306832390807, 5.2598175874712645, 1.051963517494253, 12.623562209931034, 1.051963517494253, 5.2598175874712645, 1.051963517494253, 1.051963517494253, 1.051963517494253, 1.051963517494253, 12.623562209931034, 36.81872311229885, 1.051963517494253, 5.2598175874712645, 407.1098812702758, 212.49663053383907, 204.08092239388506, 199.87306832390803, 186.19754259648275, 183.041652044, 148.32685596668966, 132.54740320427587, 127.28758561680459, 116.76795044186207, 115.71598692436781, 114.66402340687355, 111.50813285439081, 110.45616933689655, 102.04046119694253, 99.93653416195401, 99.93653416195401, 84.15708139954023, 81.00119084705747, 81.00119084705747, 79.94922732956323, 71.5335191896092, 69.42959215462069, 66.27370160213793, 62.06584753216092, 61.013884014666665, 59.96192049717241, 129.3915126517931, 56.806029944689655, 55.754066427195404, 146.22292893170115, 97.83260712696553, 85.20904491703448, 79.94922732956323, 386.0706109203908, 86.26100843452873, 337.68028911565517, 79.94922732956323, 220.9123386737931, 137.80722079174714, 987.7937429271034, 111.50813285439081, 85.20904491703448, 98.88457064445979, 188.30146963147126, 14.607209360992188, 12.520465166564733, 3.1301162916411833, 3.1301162916411833, 6.260232583282367, 10.433720972137278, 6.260232583282367, 7.303604680496094, 6.260232583282367, 14.607209360992188, 74.07941890217467, 3.1301162916411833, 7.303604680496094, 14.607209360992188, 7.303604680496094, 17.737325652633373, 5.216860486068639, 3.1301162916411833, 3.1301162916411833, 3.1301162916411833, 6.260232583282367, 3.1301162916411833, 5.216860486068639, 37.5613954996942, 3.1301162916411833, 3.1301162916411833, 5.216860486068639, 3.1301162916411833, 5.216860486068639, 20.867441944274557, 564.4643045926267, 511.25232763472667, 332.83569901117914, 223.28162880373773, 188.85034959568472, 182.59011701240237, 182.59011701240237, 164.85279135976901, 147.1154657071356, 133.55162844335715, 113.72755859629633, 251.4526754285084, 98.07697713809041, 172.1563960402651, 87.64325616595313, 86.59988406873941, 86.59988406873941, 78.25290729102959, 75.1227909993884, 69.90593051331976, 66.77581422167857, 64.68907002725112, 121.03116327679243, 51.12523276347266, 50.08186066625893, 46.951744374617746, 44.86500018019029, 42.77825598576284, 42.77825598576284, 99.12034923530413, 71.99267470774721, 68.86255841610604, 113.72755859629633, 94.94686084644923, 86.59988406873941, 92.86011665202176, 217.0213962204554, 680.2786073833505, 132.50825634614344, 128.33476795728853, 508.12221134308544, 106.42395391580023, 15.896853213212562, 3.1793706426425126, 7.418531499499196, 40.272028140138495, 66.76678349549277, 26.494755355354272, 63.58741285285025, 30.733916212210957, 3.1793706426425126, 61.467832424421914, 13.777272784784223, 12.71748257057005, 13.777272784784223, 79.48426606606282, 34.97307706906764, 3.1793706426425126, 45.57097921120935, 6.358741285285025, 21.19580428428342, 6.358741285285025, 20.136014070069248, 3.1793706426425126, 5.298951071070855, 14.837062998998393, 3.1793706426425126, 3.1793706426425126, 6.358741285285025, 6.358741285285025, 7.418531499499196, 6.358741285285025, 568.0475548187956, 243.7517492692593, 178.0447559879807, 173.80559513112405, 160.02832234633982, 104.91923120720293, 223.61573519919006, 82.66363670870534, 74.18531499499197, 74.18531499499197, 69.94615413813528, 63.58741285285025, 61.467832424421914, 61.467832424421914, 57.22867156756523, 331.7143370490355, 52.989510710708544, 52.989510710708544, 51.929720496494376, 48.750349853851866, 46.63076942542352, 45.57097921120935, 45.57097921120935, 42.39160856856684, 108.09860184984544, 218.3167841281192, 83.7234269229195, 134.5933572051997, 2052.8136449328495, 68.88636392392111, 107.03881163563128, 275.54545569568444, 110.21818227827379, 67.82657370970695, 225.73531562761843, 110.21818227827379, 78.42447585184865, 77.36468563763448, 69.94615413813528, 1.049321222021442, 1.049321222021442, 1.049321222021442, 3.147963666064326, 1.049321222021442, 5.24660611010721, 1.049321222021442, 1.049321222021442, 5.24660611010721, 4.197284888085768, 3.147963666064326, 1.049321222021442, 1.049321222021442, 3.147963666064326, 1.049321222021442, 2.098642444042884, 1.049321222021442, 1.049321222021442, 1.049321222021442, 4.197284888085768, 1.049321222021442, 4.197284888085768, 1.049321222021442, 1.049321222021442, 1.049321222021442, 46.17013376894345, 5.24660611010721, 1.049321222021442, 6.295927332128652, 68.20587943139374, 623.2968058807367, 372.50903381761196, 310.5990817183469, 199.37103218407398, 175.23664407758082, 172.0886804115165, 150.05293474906622, 134.31311641874458, 134.31311641874458, 124.8692254205516, 112.2773707562943, 95.48823120395123, 94.4389099819298, 84.99501898373681, 80.79773409565104, 78.69909165160816, 70.30452187543662, 52.4660611010721, 51.41673987905066, 49.31809743500778, 44.07149132490056, 38.82488521479336, 38.82488521479336, 36.726242770750474, 34.627600326707594, 32.528957882664706, 32.528957882664706, 32.528957882664706, 68.20587943139374, 66.10723698735086, 102.83347975810132, 100.73483731405844, 78.69909165160816, 58.76198843320076, 655.8257637634013, 135.36243764076605, 78.69909165160816, 168.94071674545216, 486.88504701794915, 281.2180875017465, 786.9909165160815, 1221.4099024329587, 92.3402675378869, 178.38460774364518, 93.38958875990834, 117.52397686640153, 1.064469093262511, 1.064469093262511, 15.967036398937664, 1.064469093262511, 3.193407279787533, 1.064469093262511, 1.064469093262511, 1.064469093262511, 1.064469093262511, 2.128938186525022, 1.064469093262511, 23.418320051775236, 1.064469093262511, 1.064469093262511, 1.064469093262511, 1.064469093262511, 3.193407279787533, 2.128938186525022, 2.128938186525022, 1.064469093262511, 1.064469093262511, 14.902567305675152, 7.451283652837576, 13.83809821241264, 34.06301098440035, 1.064469093262511, 5.322345466312554, 5.322345466312554, 9.580221839362597, 3.193407279787533, 448.1414882635171, 427.9165754915294, 241.63448417058996, 213.9582877457647, 262.9238660358402, 126.67182209823879, 123.47841481845126, 187.3465604142019, 105.38244023298857, 102.18903295320105, 96.86668748688848, 172.44399310852674, 93.67328020710094, 90.47987292731342, 83.02858927447585, 80.89965108795083, 77.7062438081633, 59.61026922270061, 57.48133103617559, 55.35239284965056, 54.287923756388054, 52.15898556986303, 51.094516476600525, 47.90110919681299, 46.83664010355047, 43.64323282376294, 42.578763730500434, 41.514294637237924, 40.449825543975415, 40.449825543975415, 176.7018694815768, 81.96412018121333, 107.51137841951359, 104.31797113972605, 77.7062438081633, 98.99562567341351, 205.44253499966462, 92.60881111383844, 1336.9731811377137, 300.18028430002806, 282.08430971456534, 68.1260219688007, 71.31942924858824, 430.04551367805436, 505.62281929969265, 95.80221839362598, 102.18903295320105, 89.4154038340509, 1.0646684830557551, 1.0646684830557551, 60.686103534178045, 1.0646684830557551, 7.452679381390286, 1.0646684830557551, 3.1940054491672654, 3.1940054491672654, 20.228701178059346, 20.228701178059346, 3.1940054491672654, 1.0646684830557551, 1.0646684830557551, 2.1293369661115102, 1.0646684830557551, 21.2933696611151, 1.0646684830557551, 6.388010898334531, 7.452679381390286, 1.0646684830557551, 7.452679381390286, 7.452679381390286, 6.388010898334531, 3.1940054491672654, 5.323342415278775, 13.840690279724816, 1.0646684830557551, 38.32806539000718, 1.0646684830557551, 15.970027245836327, 298.1071752556114, 252.32643048421397, 201.22234329753772, 161.82960942447477, 126.69554948363486, 109.66085375474279, 101.14350589029675, 78.78546774612587, 77.72079926307013, 75.59146229695862, 75.59146229695862, 73.4621253308471, 69.20345139862408, 66.00944594945682, 61.7507720172338, 58.556766568066536, 57.49209808501078, 56.42742960195502, 55.362761118899265, 51.104087186676246, 51.104087186676246, 44.71607628834171, 42.5867393222302, 41.52207083917445, 40.45740235611869, 40.45740235611869, 39.39273387306294, 38.32806539000718, 93.69082650890645, 117.11353313613307, 104.337511339464, 113.91952768696581, 64.94477746640106, 53.233424152787755, 130.95422341585788, 66.00944594945682, 1091.285195132149, 2549.8810169185335, 95.82016347501796, 89.43215257668342, 189.51098998392442, 118.17820161918883, 85.1734786444604, 75.59146229695862, 1.0561328335516762, 30.62785217299861, 1.0561328335516762, 1.0561328335516762, 7.392929834861734, 1.0561328335516762, 1.0561328335516762, 1.0561328335516762, 5.280664167758381, 1.0561328335516762, 1.0561328335516762, 1.0561328335516762, 2.1122656671033524, 1.0561328335516762, 1.0561328335516762, 2.1122656671033524, 26.403320838791906, 16.89812533682682, 4.224531334206705, 2.1122656671033524, 1.0561328335516762, 1.0561328335516762, 22.1787895045852, 5.280664167758381, 1.0561328335516762, 2.1122656671033524, 1.0561328335516762, 20.06652383748185, 1.0561328335516762, 1.0561328335516762, 1517.6628818137585, 257.696411386609, 544.964542112665, 200.66523837481847, 194.32844137350844, 192.21617570640507, 140.46566686237296, 217.5633637116453, 130.96047136040787, 108.78168185582265, 97.16422068675422, 93.99582218609919, 89.77129085189249, 70.7608998479623, 70.7608998479623, 66.5363685137556, 66.5363685137556, 66.5363685137556, 65.48023568020393, 59.14343867889387, 57.03117301179052, 54.91890734468716, 52.80664167758381, 51.75050884403213, 51.75050884403213, 50.69437601048046, 46.46984467627376, 42.24531334206705, 40.1330476749637, 38.02078200786035, 224.95629354650706, 308.39078739708947, 117.23074452423606, 73.92929834861734, 102.44488485451261, 136.24113552816624, 461.5300482620825, 130.96047136040787, 461.5300482620825, 575.5923942856635, 190.10391003930172, 182.71098020444, 1.030292093607674, 4.121168374430696, 1.030292093607674, 1.030292093607674, 6.181752561646046, 2.060584187215348, 1.030292093607674, 1.030292093607674, 1.030292093607674, 2.060584187215348, 1.030292093607674, 4.121168374430696, 13.393797216899763, 4.121168374430696, 53.57518886759905, 1.030292093607674, 1.030292093607674, 11.333213029684414, 4.121168374430696, 2.060584187215348, 1.030292093607674, 1.030292093607674, 1.030292093607674, 5.151460468038371, 1.030292093607674, 1.030292093607674, 1.030292093607674, 18.545257684938136, 1.030292093607674, 10.302920936076742, 626.4175929134659, 422.4197583791464, 363.693109043509, 453.3285211873767, 261.6941917763492, 242.11864199780342, 299.8149992398332, 190.60403731741974, 173.08907172608926, 165.87702707083554, 158.66498241558182, 152.48322985393577, 128.78651170095927, 116.42300657766717, 101.99891726715973, 97.87774889272904, 93.75658051829835, 87.57482795665231, 70.05986236532183, 70.05986236532183, 62.84781771006813, 62.84781771006813, 131.87738798178228, 56.666065148422085, 55.63577305481441, 52.54489677399138, 51.514604680383705, 51.514604680383705, 50.484312586776035, 226.66426059368834, 171.02848753887392, 105.08979354798277, 173.08907172608926, 124.66534332652859, 749.0223520527792, 206.05841872153482, 81.39307539500625, 93.75658051829835, 250.3609787466648, 148.3620614795051, 191.63432941102738, 373.9960299795857, 151.4529377603281], \"Total\": [3327.0, 2638.0, 7004.0, 1573.0, 1517.0, 1473.0, 1705.0, 2308.0, 808.0, 897.0, 692.0, 948.0, 838.0, 626.0, 623.0, 569.0, 564.0, 550.0, 512.0, 614.0, 454.0, 448.0, 427.0, 422.0, 422.0, 469.0, 407.0, 372.0, 403.0, 369.0, 25.565127093949556, 9.203445753821839, 3.0678152512739465, 3.0678152512739465, 105.32832362707217, 15.339076256369735, 3.0678152512739465, 18.406891507643678, 5.113025418789912, 62.37891010923692, 6.135630502547893, 3.0678152512739465, 20.452101675159646, 3.0678152512739465, 6.135630502547893, 3.0678152512739465, 23.51991692643359, 12.271261005095786, 14.316471172611752, 7.158235586305876, 5.113025418789912, 6.135630502547893, 249.51564043694768, 160.54899815000323, 3.0678152512739465, 12.271261005095786, 5.113025418789912, 5.113025418789912, 5.113025418789912, 3.0678152512739465, 1473.5739256952525, 808.8806212525639, 242.3574048506418, 169.75244390382505, 146.23252697739144, 140.09689647484356, 129.87084563726376, 127.82563546974778, 108.39613887834611, 100.21529820828225, 77.71798636560665, 71.58235586305875, 133.99479372208938, 58.28848977420499, 56.24327960668903, 55.220674522931034, 53.17546435541507, 48.06243893662516, 40.90420335031929, 36.813783015287356, 34.768572847771395, 32.723362680255434, 31.70075759649745, 28.632942345223505, 27.610337261465517, 26.587732177707537, 123.80227063430326, 92.11818555722745, 58.2978708152221, 139.21966048527582, 70.61846764677331, 64.49117577634027, 3327.9453034527687, 388.0450599177618, 80.91991261605537, 340.02900324105525, 86.03240772698781, 122.12743218014269, 150.15525865309613, 92.35505119737994, 345.1506840032383, 380.2318243839286, 897.3000891976866, 2.063972249550176, 4.127944499100352, 3.0959583743252646, 2.063972249550176, 1.031986124775088, 1.031986124775088, 2.063972249550176, 2.063972249550176, 1.031986124775088, 5.159930623875441, 1.031986124775088, 1.031986124775088, 1.031986124775088, 1.031986124775088, 8.255888998200705, 1.031986124775088, 1.031986124775088, 2.063972249550176, 1.031986124775088, 1.031986124775088, 1.031986124775088, 1.031986124775088, 1.031986124775088, 1.031986124775088, 1.031986124775088, 1.031986124775088, 3.0959583743252646, 2.063972249550176, 1.031986124775088, 1.031986124775088, 1573.1366497790837, 692.4626897240842, 422.08232503301105, 369.45103266948155, 341.5874073005542, 248.70865607079622, 192.98140533294148, 163.05380771446394, 143.44607134373726, 125.90230722256075, 121.77436272346041, 97.00669572885828, 174.41704105942853, 87.7188206058825, 85.65484835633232, 84.62286223155724, 75.33498710858143, 74.30300098380634, 71.20704260948108, 145.53002098600658, 69.1430703599309, 68.11108423515581, 66.04711198560564, 65.01512586083055, 62.951153611280375, 59.85519523695511, 55.72725073785476, 51.5993062387544, 49.53533398920423, 47.47136173965406, 403.8104049939043, 469.0810676440267, 65.01343182966315, 271.37807709535105, 419.64389580876906, 272.51045959311654, 7004.458565952407, 1705.4036136548589, 151.37015308126314, 126.76133510948483, 1.051963517494253, 12.623562209931034, 1.051963517494253, 35.7667595948046, 1.051963517494253, 32.61086904232184, 5.2598175874712645, 1.051963517494253, 2.103927034988506, 1.051963517494253, 4.207854069977012, 3.1558905524827585, 1.051963517494253, 3.1558905524827585, 1.051963517494253, 9.467671657448276, 19.987306832390807, 5.2598175874712645, 1.051963517494253, 12.623562209931034, 1.051963517494253, 5.2598175874712645, 1.051963517494253, 1.051963517494253, 1.051963517494253, 1.051963517494253, 12.623562209931034, 36.81872311229885, 1.051963517494253, 5.2598175874712645, 407.1098812702758, 212.49663053383907, 204.08092239388506, 199.87306832390803, 186.19754259648275, 183.041652044, 148.32685596668966, 132.54740320427587, 127.28758561680459, 116.76795044186207, 115.71598692436781, 114.66402340687355, 111.50813285439081, 110.45616933689655, 102.04046119694253, 99.93653416195401, 99.93653416195401, 84.15708139954023, 81.00119084705747, 81.00119084705747, 79.94922732956323, 71.5335191896092, 69.42959215462069, 66.27370160213793, 62.06584753216092, 61.013884014666665, 59.96192049717241, 130.44083387381454, 56.806029944689655, 55.754066427195404, 148.35226589781266, 98.89707622022804, 86.25836613905592, 80.9795194231709, 434.7512199164295, 88.38994662105375, 455.858490734844, 82.03597152399068, 312.27773406690403, 192.4661452665967, 7004.458565952407, 172.75107646405007, 92.6605279596653, 161.48689647728344, 3327.9453034527687, 14.607209360992188, 12.520465166564733, 3.1301162916411833, 3.1301162916411833, 6.260232583282367, 10.433720972137278, 6.260232583282367, 7.303604680496094, 6.260232583282367, 14.607209360992188, 74.07941890217467, 3.1301162916411833, 7.303604680496094, 14.607209360992188, 7.303604680496094, 17.737325652633373, 5.216860486068639, 3.1301162916411833, 3.1301162916411833, 3.1301162916411833, 6.260232583282367, 3.1301162916411833, 5.216860486068639, 37.5613954996942, 3.1301162916411833, 3.1301162916411833, 5.216860486068639, 3.1301162916411833, 5.216860486068639, 20.867441944274557, 564.4643045926267, 512.3167967279892, 332.83569901117914, 223.28162880373773, 188.85034959568472, 182.59011701240237, 182.59011701240237, 164.85279135976901, 147.1154657071356, 133.55162844335715, 113.72755859629633, 253.49788559602436, 98.07697713809041, 173.1883821650402, 87.64325616595313, 86.59988406873941, 86.59988406873941, 78.25290729102959, 75.1227909993884, 69.90593051331976, 66.77581422167857, 64.68907002725112, 122.06314940156751, 51.12523276347266, 50.08186066625893, 46.951744374617746, 44.86500018019029, 42.77825598576284, 42.77825598576284, 101.18432148485431, 73.05734319080297, 69.92234863032022, 117.98623252851935, 98.10529350470628, 89.69584244306468, 100.22386127448154, 442.7567118480738, 3327.9453034527687, 235.72758139295217, 245.85874482369007, 7004.458565952407, 188.15104671530673, 15.896853213212562, 3.1793706426425126, 7.418531499499196, 40.272028140138495, 66.76678349549277, 26.494755355354272, 63.58741285285025, 30.733916212210957, 3.1793706426425126, 61.467832424421914, 13.777272784784223, 12.71748257057005, 13.777272784784223, 79.48426606606282, 34.97307706906764, 3.1793706426425126, 45.57097921120935, 6.358741285285025, 21.19580428428342, 6.358741285285025, 20.136014070069248, 3.1793706426425126, 5.298951071070855, 14.837062998998393, 3.1793706426425126, 3.1793706426425126, 6.358741285285025, 6.358741285285025, 7.418531499499196, 6.358741285285025, 569.1122233018514, 243.7517492692593, 178.0447559879807, 173.80559513112405, 160.02832234633982, 104.91923120720293, 225.7280008662934, 82.66363670870534, 74.18531499499197, 74.18531499499197, 69.94615413813528, 63.58741285285025, 61.467832424421914, 61.467832424421914, 57.22867156756523, 337.89608961068154, 52.989510710708544, 52.989510710708544, 51.929720496494376, 48.750349853851866, 46.63076942542352, 45.57097921120935, 45.57097921120935, 42.39160856856684, 109.14792307186688, 223.59744829587757, 84.77955975647117, 138.7662070595184, 2638.83976019065, 72.03432758998544, 118.75016494924458, 453.9300634393296, 142.15225507614912, 74.21338826928202, 442.7567118480738, 164.4112302930204, 153.9756038373925, 271.37807709535105, 160.41352148968045, 1.049321222021442, 1.049321222021442, 1.049321222021442, 3.147963666064326, 1.049321222021442, 5.24660611010721, 1.049321222021442, 1.049321222021442, 5.24660611010721, 4.197284888085768, 3.147963666064326, 1.049321222021442, 1.049321222021442, 3.147963666064326, 1.049321222021442, 2.098642444042884, 1.049321222021442, 1.049321222021442, 1.049321222021442, 4.197284888085768, 1.049321222021442, 4.197284888085768, 1.049321222021442, 1.049321222021442, 1.049321222021442, 46.17013376894345, 5.24660611010721, 1.049321222021442, 6.295927332128652, 68.20587943139374, 623.2968058807367, 372.50903381761196, 310.5990817183469, 199.37103218407398, 175.23664407758082, 172.0886804115165, 150.05293474906622, 134.31311641874458, 134.31311641874458, 124.8692254205516, 112.2773707562943, 95.48823120395123, 94.4389099819298, 84.99501898373681, 80.79773409565104, 78.69909165160816, 70.30452187543662, 52.4660611010721, 51.41673987905066, 49.31809743500778, 44.07149132490056, 38.82488521479336, 38.82488521479336, 36.726242770750474, 34.627600326707594, 32.528957882664706, 32.528957882664706, 32.528957882664706, 69.2705479144495, 67.17170608061338, 106.96142425720167, 104.94269138403546, 81.81580867237518, 60.89132539931227, 838.5367439678413, 172.4873294000904, 90.17618472095916, 238.84664725877192, 948.4150952800317, 477.5822301243305, 2308.321625326285, 7004.458565952407, 122.012610225408, 453.9300634393296, 134.0811005512437, 245.85874482369007, 1.064469093262511, 1.064469093262511, 15.967036398937664, 1.064469093262511, 3.193407279787533, 1.064469093262511, 1.064469093262511, 1.064469093262511, 1.064469093262511, 2.128938186525022, 1.064469093262511, 23.418320051775236, 1.064469093262511, 1.064469093262511, 1.064469093262511, 1.064469093262511, 3.193407279787533, 2.128938186525022, 2.128938186525022, 1.064469093262511, 1.064469093262511, 14.902567305675152, 7.451283652837576, 13.83809821241264, 34.06301098440035, 1.064469093262511, 5.322345466312554, 5.322345466312554, 9.580221839362597, 3.193407279787533, 448.1414882635171, 427.9165754915294, 241.63448417058996, 213.9582877457647, 263.9541581294479, 126.67182209823879, 123.47841481845126, 188.41122889725764, 105.38244023298857, 102.18903295320105, 96.86668748688848, 173.47597923330184, 93.67328020710094, 90.47987292731342, 83.02858927447585, 80.89965108795083, 77.7062438081633, 59.61026922270061, 57.48133103617559, 55.35239284965056, 54.287923756388054, 52.15898556986303, 51.094516476600525, 47.90110919681299, 46.83664010355047, 43.64323282376294, 42.578763730500434, 41.514294637237924, 40.449825543975415, 40.449825543975415, 179.79274576239982, 83.00749227842707, 109.61530545450209, 106.43755156815439, 78.73653590177096, 101.11520610184185, 214.71516384213368, 95.73892740547963, 1705.4036136548589, 354.8823872097292, 356.8040880470552, 72.33387603877772, 82.65264227827265, 2308.321625326285, 7004.458565952407, 174.55998745933934, 235.72758139295217, 160.41352148968045, 1.0646684830557551, 1.0646684830557551, 60.686103534178045, 1.0646684830557551, 7.452679381390286, 1.0646684830557551, 3.1940054491672654, 3.1940054491672654, 20.228701178059346, 20.228701178059346, 3.1940054491672654, 1.0646684830557551, 1.0646684830557551, 2.1293369661115102, 1.0646684830557551, 21.2933696611151, 1.0646684830557551, 6.388010898334531, 7.452679381390286, 1.0646684830557551, 7.452679381390286, 7.452679381390286, 6.388010898334531, 3.1940054491672654, 5.323342415278775, 13.840690279724816, 1.0646684830557551, 38.32806539000718, 1.0646684830557551, 15.970027245836327, 298.1071752556114, 252.32643048421397, 201.22234329753772, 161.82960942447477, 126.69554948363486, 109.66085375474279, 101.14350589029675, 78.78546774612587, 77.72079926307013, 75.59146229695862, 75.59146229695862, 73.4621253308471, 69.20345139862408, 66.00944594945682, 61.7507720172338, 58.556766568066536, 57.49209808501078, 56.42742960195502, 55.362761118899265, 51.104087186676246, 51.104087186676246, 44.71607628834171, 42.5867393222302, 41.52207083917445, 40.45740235611869, 40.45740235611869, 39.39273387306294, 38.32806539000718, 94.71343159266443, 120.26942368861583, 107.46762763110519, 118.12738175694282, 65.99674098389532, 54.289556986339434, 162.69583973196012, 72.19119851110287, 2308.321625326285, 7004.458565952407, 114.60086122486507, 121.37120747852131, 419.64389580876906, 455.858490734844, 312.27773406690403, 188.15104671530673, 1.0561328335516762, 30.62785217299861, 1.0561328335516762, 1.0561328335516762, 7.392929834861734, 1.0561328335516762, 1.0561328335516762, 1.0561328335516762, 5.280664167758381, 1.0561328335516762, 1.0561328335516762, 1.0561328335516762, 2.1122656671033524, 1.0561328335516762, 1.0561328335516762, 2.1122656671033524, 26.403320838791906, 16.89812533682682, 4.224531334206705, 2.1122656671033524, 1.0561328335516762, 1.0561328335516762, 22.1787895045852, 5.280664167758381, 1.0561328335516762, 2.1122656671033524, 1.0561328335516762, 20.06652383748185, 1.0561328335516762, 1.0561328335516762, 1517.6628818137585, 257.696411386609, 550.2634931837358, 200.66523837481847, 194.32844137350844, 192.21617570640507, 140.46566686237296, 218.59365580525298, 130.96047136040787, 108.78168185582265, 97.16422068675422, 93.99582218609919, 89.77129085189249, 70.7608998479623, 70.7608998479623, 66.5363685137556, 66.5363685137556, 66.5363685137556, 65.48023568020393, 59.14343867889387, 57.03117301179052, 54.91890734468716, 52.80664167758381, 51.75050884403213, 51.75050884403213, 50.69437601048046, 46.46984467627376, 42.24531334206705, 40.1330476749637, 38.02078200786035, 229.15357843459282, 324.8365955358127, 120.30624678535969, 74.98908856283151, 107.76822726979138, 146.46718636574607, 614.0349495399048, 147.44514485813065, 948.4150952800317, 2638.83976019065, 477.5822301243305, 838.5367439678413, 1.030292093607674, 4.121168374430696, 1.030292093607674, 1.030292093607674, 6.181752561646046, 2.060584187215348, 1.030292093607674, 1.030292093607674, 1.030292093607674, 2.060584187215348, 1.030292093607674, 4.121168374430696, 13.393797216899763, 4.121168374430696, 53.57518886759905, 1.030292093607674, 1.030292093607674, 11.333213029684414, 4.121168374430696, 2.060584187215348, 1.030292093607674, 1.030292093607674, 1.030292093607674, 5.151460468038371, 1.030292093607674, 1.030292093607674, 1.030292093607674, 18.545257684938136, 1.030292093607674, 10.302920936076742, 626.4175929134659, 422.4197583791464, 363.693109043509, 454.39318967043243, 261.6941917763492, 242.11864199780342, 300.83760432359117, 190.60403731741974, 173.08907172608926, 165.87702707083554, 158.66498241558182, 152.48322985393577, 128.78651170095927, 116.42300657766717, 101.99891726715973, 97.87774889272904, 93.75658051829835, 87.57482795665231, 70.05986236532183, 70.05986236532183, 62.84781771006813, 62.84781771006813, 132.920760078996, 56.666065148422085, 55.63577305481441, 52.54489677399138, 51.514604680383705, 51.514604680383705, 50.484312586776035, 231.88112107975698, 176.32743860994478, 107.21873173450778, 180.49907285995914, 129.96429439759945, 897.3000891976866, 232.5531740768891, 84.56147152325727, 100.96172130968975, 380.2318243839286, 204.53094283285614, 345.1506840032383, 7004.458565952407, 614.0349495399048], \"Category\": [\"Default\", \"Default\", \"Default\", \"Default\", \"Default\", \"Default\", \"Default\", \"Default\", \"Default\", \"Default\", \"Default\", \"Default\", \"Default\", \"Default\", \"Default\", \"Default\", \"Default\", \"Default\", \"Default\", \"Default\", \"Default\", \"Default\", \"Default\", \"Default\", \"Default\", \"Default\", \"Default\", \"Default\", \"Default\", \"Default\", \"Topic1\", \"Topic1\", \"Topic1\", \"Topic1\", \"Topic1\", \"Topic1\", \"Topic1\", \"Topic1\", \"Topic1\", \"Topic1\", \"Topic1\", \"Topic1\", \"Topic1\", \"Topic1\", \"Topic1\", \"Topic1\", \"Topic1\", \"Topic1\", \"Topic1\", \"Topic1\", \"Topic1\", \"Topic1\", \"Topic1\", \"Topic1\", \"Topic1\", \"Topic1\", \"Topic1\", \"Topic1\", \"Topic1\", \"Topic1\", \"Topic1\", \"Topic1\", \"Topic1\", \"Topic1\", \"Topic1\", \"Topic1\", \"Topic1\", \"Topic1\", \"Topic1\", \"Topic1\", \"Topic1\", \"Topic1\", \"Topic1\", \"Topic1\", \"Topic1\", \"Topic1\", \"Topic1\", \"Topic1\", \"Topic1\", \"Topic1\", \"Topic1\", \"Topic1\", \"Topic1\", \"Topic1\", \"Topic1\", \"Topic1\", \"Topic1\", \"Topic1\", \"Topic1\", \"Topic1\", \"Topic1\", \"Topic1\", \"Topic1\", \"Topic1\", \"Topic1\", \"Topic1\", \"Topic1\", \"Topic1\", \"Topic1\", \"Topic1\", \"Topic1\", \"Topic1\", \"Topic1\", \"Topic2\", \"Topic2\", \"Topic2\", \"Topic2\", \"Topic2\", \"Topic2\", \"Topic2\", \"Topic2\", \"Topic2\", \"Topic2\", \"Topic2\", \"Topic2\", \"Topic2\", \"Topic2\", \"Topic2\", \"Topic2\", \"Topic2\", \"Topic2\", \"Topic2\", \"Topic2\", \"Topic2\", \"Topic2\", \"Topic2\", \"Topic2\", \"Topic2\", \"Topic2\", \"Topic2\", \"Topic2\", \"Topic2\", \"Topic2\", \"Topic2\", \"Topic2\", \"Topic2\", \"Topic2\", \"Topic2\", \"Topic2\", \"Topic2\", \"Topic2\", \"Topic2\", \"Topic2\", \"Topic2\", \"Topic2\", \"Topic2\", \"Topic2\", \"Topic2\", \"Topic2\", \"Topic2\", \"Topic2\", \"Topic2\", \"Topic2\", \"Topic2\", \"Topic2\", \"Topic2\", \"Topic2\", \"Topic2\", \"Topic2\", \"Topic2\", \"Topic2\", \"Topic2\", \"Topic2\", \"Topic2\", \"Topic2\", \"Topic2\", \"Topic2\", \"Topic2\", \"Topic2\", \"Topic2\", \"Topic2\", \"Topic2\", \"Topic2\", \"Topic3\", \"Topic3\", \"Topic3\", \"Topic3\", \"Topic3\", \"Topic3\", \"Topic3\", \"Topic3\", \"Topic3\", \"Topic3\", \"Topic3\", \"Topic3\", \"Topic3\", \"Topic3\", \"Topic3\", \"Topic3\", \"Topic3\", \"Topic3\", \"Topic3\", \"Topic3\", \"Topic3\", \"Topic3\", \"Topic3\", \"Topic3\", \"Topic3\", \"Topic3\", \"Topic3\", \"Topic3\", \"Topic3\", \"Topic3\", \"Topic3\", \"Topic3\", \"Topic3\", \"Topic3\", \"Topic3\", \"Topic3\", \"Topic3\", \"Topic3\", \"Topic3\", \"Topic3\", \"Topic3\", \"Topic3\", \"Topic3\", \"Topic3\", \"Topic3\", \"Topic3\", \"Topic3\", \"Topic3\", \"Topic3\", \"Topic3\", \"Topic3\", \"Topic3\", \"Topic3\", \"Topic3\", \"Topic3\", \"Topic3\", \"Topic3\", \"Topic3\", \"Topic3\", \"Topic3\", \"Topic3\", \"Topic3\", \"Topic3\", \"Topic3\", \"Topic3\", \"Topic3\", \"Topic3\", \"Topic3\", \"Topic3\", \"Topic3\", \"Topic3\", \"Topic3\", \"Topic3\", \"Topic3\", \"Topic3\", \"Topic4\", \"Topic4\", \"Topic4\", \"Topic4\", \"Topic4\", \"Topic4\", \"Topic4\", \"Topic4\", \"Topic4\", \"Topic4\", \"Topic4\", \"Topic4\", \"Topic4\", \"Topic4\", \"Topic4\", \"Topic4\", \"Topic4\", \"Topic4\", \"Topic4\", \"Topic4\", \"Topic4\", \"Topic4\", \"Topic4\", \"Topic4\", \"Topic4\", \"Topic4\", \"Topic4\", \"Topic4\", \"Topic4\", \"Topic4\", \"Topic4\", \"Topic4\", \"Topic4\", \"Topic4\", \"Topic4\", \"Topic4\", \"Topic4\", \"Topic4\", \"Topic4\", \"Topic4\", \"Topic4\", \"Topic4\", \"Topic4\", \"Topic4\", \"Topic4\", \"Topic4\", \"Topic4\", \"Topic4\", \"Topic4\", \"Topic4\", \"Topic4\", \"Topic4\", \"Topic4\", \"Topic4\", \"Topic4\", \"Topic4\", \"Topic4\", \"Topic4\", \"Topic4\", \"Topic4\", \"Topic4\", \"Topic4\", \"Topic4\", \"Topic4\", \"Topic4\", \"Topic4\", \"Topic4\", \"Topic4\", \"Topic4\", \"Topic4\", \"Topic4\", \"Topic4\", \"Topic5\", \"Topic5\", \"Topic5\", \"Topic5\", \"Topic5\", \"Topic5\", \"Topic5\", \"Topic5\", \"Topic5\", \"Topic5\", \"Topic5\", \"Topic5\", \"Topic5\", \"Topic5\", \"Topic5\", \"Topic5\", \"Topic5\", \"Topic5\", \"Topic5\", \"Topic5\", \"Topic5\", \"Topic5\", \"Topic5\", \"Topic5\", \"Topic5\", \"Topic5\", \"Topic5\", \"Topic5\", \"Topic5\", \"Topic5\", \"Topic5\", \"Topic5\", \"Topic5\", \"Topic5\", \"Topic5\", \"Topic5\", \"Topic5\", \"Topic5\", \"Topic5\", \"Topic5\", \"Topic5\", \"Topic5\", \"Topic5\", \"Topic5\", \"Topic5\", \"Topic5\", \"Topic5\", \"Topic5\", \"Topic5\", \"Topic5\", \"Topic5\", \"Topic5\", \"Topic5\", \"Topic5\", \"Topic5\", \"Topic5\", \"Topic5\", \"Topic5\", \"Topic5\", \"Topic5\", \"Topic5\", \"Topic5\", \"Topic5\", \"Topic5\", \"Topic5\", \"Topic5\", \"Topic5\", \"Topic5\", \"Topic5\", \"Topic6\", \"Topic6\", \"Topic6\", \"Topic6\", \"Topic6\", \"Topic6\", \"Topic6\", \"Topic6\", \"Topic6\", \"Topic6\", \"Topic6\", \"Topic6\", \"Topic6\", \"Topic6\", \"Topic6\", \"Topic6\", \"Topic6\", \"Topic6\", \"Topic6\", \"Topic6\", \"Topic6\", \"Topic6\", \"Topic6\", \"Topic6\", \"Topic6\", \"Topic6\", \"Topic6\", \"Topic6\", \"Topic6\", \"Topic6\", \"Topic6\", \"Topic6\", \"Topic6\", \"Topic6\", \"Topic6\", \"Topic6\", \"Topic6\", \"Topic6\", \"Topic6\", \"Topic6\", \"Topic6\", \"Topic6\", \"Topic6\", \"Topic6\", \"Topic6\", \"Topic6\", \"Topic6\", \"Topic6\", \"Topic6\", \"Topic6\", \"Topic6\", \"Topic6\", \"Topic6\", \"Topic6\", \"Topic6\", \"Topic6\", \"Topic6\", \"Topic6\", \"Topic6\", \"Topic6\", \"Topic6\", \"Topic6\", \"Topic6\", \"Topic6\", \"Topic6\", \"Topic6\", \"Topic6\", \"Topic6\", \"Topic6\", \"Topic6\", \"Topic6\", \"Topic6\", \"Topic6\", \"Topic6\", \"Topic6\", \"Topic6\", \"Topic7\", \"Topic7\", \"Topic7\", \"Topic7\", \"Topic7\", \"Topic7\", \"Topic7\", \"Topic7\", \"Topic7\", \"Topic7\", \"Topic7\", \"Topic7\", \"Topic7\", \"Topic7\", \"Topic7\", \"Topic7\", \"Topic7\", \"Topic7\", \"Topic7\", \"Topic7\", \"Topic7\", \"Topic7\", \"Topic7\", \"Topic7\", \"Topic7\", \"Topic7\", \"Topic7\", \"Topic7\", \"Topic7\", \"Topic7\", \"Topic7\", \"Topic7\", \"Topic7\", \"Topic7\", \"Topic7\", \"Topic7\", \"Topic7\", \"Topic7\", \"Topic7\", \"Topic7\", \"Topic7\", \"Topic7\", \"Topic7\", \"Topic7\", \"Topic7\", \"Topic7\", \"Topic7\", \"Topic7\", \"Topic7\", \"Topic7\", \"Topic7\", \"Topic7\", \"Topic7\", \"Topic7\", \"Topic7\", \"Topic7\", \"Topic7\", \"Topic7\", \"Topic7\", \"Topic7\", \"Topic7\", \"Topic7\", \"Topic7\", \"Topic7\", \"Topic7\", \"Topic7\", \"Topic7\", \"Topic7\", \"Topic7\", \"Topic7\", \"Topic7\", \"Topic7\", \"Topic7\", \"Topic7\", \"Topic7\", \"Topic7\", \"Topic7\", \"Topic7\", \"Topic8\", \"Topic8\", \"Topic8\", \"Topic8\", \"Topic8\", \"Topic8\", \"Topic8\", \"Topic8\", \"Topic8\", \"Topic8\", \"Topic8\", \"Topic8\", \"Topic8\", \"Topic8\", \"Topic8\", \"Topic8\", \"Topic8\", \"Topic8\", \"Topic8\", \"Topic8\", \"Topic8\", \"Topic8\", \"Topic8\", \"Topic8\", \"Topic8\", \"Topic8\", \"Topic8\", \"Topic8\", \"Topic8\", \"Topic8\", \"Topic8\", \"Topic8\", \"Topic8\", \"Topic8\", \"Topic8\", \"Topic8\", \"Topic8\", \"Topic8\", \"Topic8\", \"Topic8\", \"Topic8\", \"Topic8\", \"Topic8\", \"Topic8\", \"Topic8\", \"Topic8\", \"Topic8\", \"Topic8\", \"Topic8\", \"Topic8\", \"Topic8\", \"Topic8\", \"Topic8\", \"Topic8\", \"Topic8\", \"Topic8\", \"Topic8\", \"Topic8\", \"Topic8\", \"Topic8\", \"Topic8\", \"Topic8\", \"Topic8\", \"Topic8\", \"Topic8\", \"Topic8\", \"Topic8\", \"Topic8\", \"Topic8\", \"Topic8\", \"Topic8\", \"Topic8\", \"Topic8\", \"Topic8\", \"Topic9\", \"Topic9\", \"Topic9\", \"Topic9\", \"Topic9\", \"Topic9\", \"Topic9\", \"Topic9\", \"Topic9\", \"Topic9\", \"Topic9\", \"Topic9\", \"Topic9\", \"Topic9\", \"Topic9\", \"Topic9\", \"Topic9\", \"Topic9\", \"Topic9\", \"Topic9\", \"Topic9\", \"Topic9\", \"Topic9\", \"Topic9\", \"Topic9\", \"Topic9\", \"Topic9\", \"Topic9\", \"Topic9\", \"Topic9\", \"Topic9\", \"Topic9\", \"Topic9\", \"Topic9\", \"Topic9\", \"Topic9\", \"Topic9\", \"Topic9\", \"Topic9\", \"Topic9\", \"Topic9\", \"Topic9\", \"Topic9\", \"Topic9\", \"Topic9\", \"Topic9\", \"Topic9\", \"Topic9\", \"Topic9\", \"Topic9\", \"Topic9\", \"Topic9\", \"Topic9\", \"Topic9\", \"Topic9\", \"Topic9\", \"Topic9\", \"Topic9\", \"Topic9\", \"Topic9\", \"Topic9\", \"Topic9\", \"Topic9\", \"Topic9\", \"Topic9\", \"Topic9\", \"Topic9\", \"Topic9\", \"Topic9\", \"Topic9\", \"Topic9\", \"Topic9\", \"Topic10\", \"Topic10\", \"Topic10\", \"Topic10\", \"Topic10\", \"Topic10\", \"Topic10\", \"Topic10\", \"Topic10\", \"Topic10\", \"Topic10\", \"Topic10\", \"Topic10\", \"Topic10\", \"Topic10\", \"Topic10\", \"Topic10\", \"Topic10\", \"Topic10\", \"Topic10\", \"Topic10\", \"Topic10\", \"Topic10\", \"Topic10\", \"Topic10\", \"Topic10\", \"Topic10\", \"Topic10\", \"Topic10\", \"Topic10\", \"Topic10\", \"Topic10\", \"Topic10\", \"Topic10\", \"Topic10\", \"Topic10\", \"Topic10\", \"Topic10\", \"Topic10\", \"Topic10\", \"Topic10\", \"Topic10\", \"Topic10\", \"Topic10\", \"Topic10\", \"Topic10\", \"Topic10\", \"Topic10\", \"Topic10\", \"Topic10\", \"Topic10\", \"Topic10\", \"Topic10\", \"Topic10\", \"Topic10\", \"Topic10\", \"Topic10\", \"Topic10\", \"Topic10\", \"Topic10\", \"Topic10\", \"Topic10\", \"Topic10\", \"Topic10\", \"Topic10\", \"Topic10\", \"Topic10\", \"Topic10\", \"Topic10\", \"Topic10\", \"Topic10\", \"Topic10\", \"Topic10\"], \"logprob\": [30.0, 29.0, 28.0, 27.0, 26.0, 25.0, 24.0, 23.0, 22.0, 21.0, 20.0, 19.0, 18.0, 17.0, 16.0, 15.0, 14.0, 13.0, 12.0, 11.0, 10.0, 9.0, 8.0, 7.0, 6.0, 5.0, 4.0, 3.0, 2.0, 1.0, -6.0975, -7.1192, -8.2178, -8.2178, -4.6817, -6.6084, -8.2178, -6.426, -7.707, -5.2055, -7.5247, -8.2178, -6.3207, -8.2178, -7.5247, -8.2178, -6.1809, -6.8315, -6.6774, -7.3705, -7.707, -7.5247, -3.8192, -4.2602, -8.2178, -6.8315, -7.707, -7.707, -7.707, -8.2178, -2.0433, -2.6431, -3.8484, -4.2044, -4.3536, -4.3964, -4.4722, -4.4881, -4.653, -4.7314, -4.9857, -5.0679, -4.4489, -5.2734, -5.3091, -5.3274, -5.3652, -5.4663, -5.6275, -5.7329, -5.7901, -5.8507, -5.8824, -5.9842, -6.0206, -6.0583, -4.5373, -4.8391, -5.2911, -4.4566, -5.1117, -5.2055, -1.5311, -3.5419, -4.9989, -3.7143, -4.947, -4.6914, -4.5802, -4.9597, -4.326, -4.4722, -4.3397, -8.6069, -7.9137, -8.2014, -8.6069, -9.3, -9.3, -8.6069, -8.6069, -9.3, -7.6906, -9.3, -9.3, -9.3, -9.3, -7.2206, -9.3, -9.3, -8.6069, -9.3, -9.3, -9.3, -9.3, -9.3, -9.3, -9.3, -9.3, -8.2014, -8.6069, -9.3, -9.3, -1.9788, -2.7912, -3.2863, -3.4195, -3.4979, -3.8152, -4.0689, -4.2374, -4.3655, -4.496, -4.5293, -4.7567, -4.176, -4.8573, -4.8812, -4.8933, -5.0095, -5.0233, -5.0659, -4.3584, -5.0953, -5.1103, -5.1411, -5.1569, -5.1891, -5.2396, -5.311, -5.388, -5.4288, -5.4714, -3.3704, -3.2456, -5.1729, -4.0636, -3.8928, -4.3028, -2.6267, -3.4251, -4.7782, -4.9306, -9.2791, -6.7942, -9.2791, -5.7528, -9.2791, -5.8451, -7.6697, -9.2791, -8.586, -9.2791, -7.8928, -8.1805, -9.2791, -8.1805, -9.2791, -7.0819, -6.3347, -7.6697, -9.2791, -6.7942, -9.2791, -7.6697, -9.2791, -9.2791, -9.2791, -9.2791, -6.7942, -5.7238, -9.2791, -7.6697, -3.3207, -3.9709, -4.0113, -4.0321, -4.103, -4.1201, -4.3304, -4.4428, -4.4833, -4.5696, -4.5786, -4.5878, -4.6157, -4.6252, -4.7044, -4.7252, -4.7252, -4.8971, -4.9353, -4.9353, -4.9484, -5.0596, -5.0895, -5.136, -5.2016, -5.2187, -5.2361, -4.4669, -5.2901, -5.3088, -4.3446, -4.7465, -4.8847, -4.9484, -3.3738, -4.8724, -3.5077, -4.9484, -3.932, -4.4039, -2.4343, -4.6157, -4.8847, -4.7358, -4.0917, -6.6466, -6.8007, -8.187, -8.187, -7.4939, -6.983, -7.4939, -7.3397, -7.4939, -6.6466, -5.023, -8.187, -7.3397, -6.6466, -7.3397, -6.4524, -7.6762, -8.187, -8.187, -8.187, -7.4939, -8.187, -7.6762, -5.7021, -8.187, -8.187, -7.6762, -8.187, -7.6762, -6.2899, -2.9922, -3.0912, -3.5204, -3.9197, -4.0871, -4.1208, -4.1208, -4.223, -4.3369, -4.4336, -4.5943, -3.8008, -4.7423, -4.1797, -4.8548, -4.8668, -4.8668, -4.9681, -5.009, -5.0809, -5.1268, -5.1585, -4.532, -5.3938, -5.4144, -5.479, -5.5244, -5.5721, -5.5721, -4.7318, -5.0515, -5.096, -4.5943, -4.7748, -4.8668, -4.797, -3.9481, -2.8056, -4.4414, -4.4734, -3.0974, -4.6607, -6.5605, -8.1699, -7.3226, -5.6309, -5.1254, -6.0496, -5.1742, -5.9012, -8.1699, -5.2081, -6.7036, -6.7836, -6.7036, -4.951, -5.772, -8.1699, -5.5073, -7.4768, -6.2728, -7.4768, -6.3241, -8.1699, -7.6591, -6.6295, -8.1699, -8.1699, -7.4768, -7.4768, -7.3226, -7.4768, -2.9844, -3.8304, -4.1446, -4.1686, -4.2512, -4.6734, -3.9167, -4.9118, -5.02, -5.02, -5.0789, -5.1742, -5.2081, -5.2081, -5.2795, -3.5223, -5.3565, -5.3565, -5.3767, -5.4399, -5.4843, -5.5073, -5.5073, -5.5796, -4.6435, -3.9406, -4.8991, -4.4243, -1.6996, -5.0941, -4.6534, -3.7078, -4.6241, -5.1096, -3.9072, -4.6241, -4.9644, -4.9781, -5.0789, -9.2771, -9.2771, -9.2771, -8.1785, -9.2771, -7.6676, -9.2771, -9.2771, -7.6676, -7.8908, -8.1785, -9.2771, -9.2771, -8.1785, -9.2771, -8.5839, -9.2771, -9.2771, -9.2771, -7.8908, -9.2771, -7.8908, -9.2771, -9.2771, -9.2771, -5.4929, -7.6676, -9.2771, -7.4853, -5.1027, -2.8902, -3.4049, -3.5867, -4.03, -4.1591, -4.1772, -4.3142, -4.425, -4.425, -4.4979, -4.6042, -4.7662, -4.7773, -4.8826, -4.9333, -4.9596, -5.0724, -5.365, -5.3852, -5.4269, -5.5394, -5.6661, -5.6661, -5.7217, -5.7806, -5.8431, -5.8431, -5.8431, -5.1027, -5.1339, -4.6921, -4.7127, -4.9596, -5.2517, -2.8393, -4.4173, -4.9596, -4.1957, -3.1372, -3.6861, -2.657, -2.2174, -4.7997, -4.1413, -4.7884, -4.5586, -9.2611, -9.2611, -6.5531, -9.2611, -8.1625, -9.2611, -9.2611, -9.2611, -9.2611, -8.568, -9.2611, -6.1701, -9.2611, -9.2611, -9.2611, -9.2611, -8.1625, -8.568, -8.568, -9.2611, -9.2611, -6.6221, -7.3152, -6.6962, -5.7954, -9.2611, -7.6517, -7.6517, -7.0639, -8.1625, -3.2185, -3.2647, -3.8362, -3.9578, -3.7517, -4.482, -4.5075, -4.0906, -4.666, -4.6968, -4.7503, -4.1735, -4.7838, -4.8185, -4.9044, -4.9304, -4.9707, -5.2358, -5.2721, -5.3099, -5.3293, -5.3693, -5.3899, -5.4545, -5.4769, -5.5476, -5.5722, -5.5976, -5.6235, -5.6235, -4.1491, -4.9173, -4.646, -4.6762, -4.9707, -4.7285, -3.9984, -4.7952, -2.1254, -3.6192, -3.6814, -5.1022, -5.0564, -3.2597, -3.0978, -4.7613, -4.6968, -4.8303, -9.2593, -9.2593, -5.2163, -9.2593, -7.3134, -9.2593, -8.1607, -8.1607, -6.3149, -6.3149, -8.1607, -9.2593, -9.2593, -8.5662, -9.2593, -6.2636, -9.2593, -7.4676, -7.3134, -9.2593, -7.3134, -7.3134, -7.4676, -8.1607, -7.6499, -6.6944, -9.2593, -5.6758, -9.2593, -6.5513, -3.6245, -3.7913, -4.0176, -4.2354, -4.4802, -4.6246, -4.7054, -4.9553, -4.9689, -4.9966, -4.9966, -5.0252, -5.0849, -5.1322, -5.1989, -5.252, -5.2703, -5.289, -5.3081, -5.3881, -5.3881, -5.5217, -5.5704, -5.5958, -5.6217, -5.6217, -5.6484, -5.6758, -4.782, -4.5588, -4.6744, -4.5865, -5.1484, -5.3473, -4.4471, -5.1322, -2.3269, -1.4782, -4.7595, -4.8285, -4.0775, -4.5498, -4.8773, -4.9966, -9.2642, -5.8969, -9.2642, -9.2642, -7.3183, -9.2642, -9.2642, -9.2642, -7.6547, -9.2642, -9.2642, -9.2642, -8.571, -9.2642, -9.2642, -8.571, -6.0453, -6.4916, -7.8779, -8.571, -9.2642, -9.2642, -6.2196, -7.6547, -9.2642, -8.571, -9.2642, -6.3197, -9.2642, -9.2642, -1.9939, -3.767, -3.0181, -4.0171, -4.0492, -4.0602, -4.3738, -3.9363, -4.4439, -4.6294, -4.7424, -4.7755, -4.8215, -5.0595, -5.0595, -5.121, -5.121, -5.121, -5.137, -5.2388, -5.2752, -5.3129, -5.3521, -5.3723, -5.3723, -5.393, -5.48, -5.5753, -5.6266, -5.6806, -3.9029, -3.5874, -4.5546, -5.0157, -4.6895, -4.4044, -3.1842, -4.4439, -3.1842, -2.9634, -4.0712, -4.1109, -9.2861, -7.8998, -9.2861, -9.2861, -7.4943, -8.5929, -9.2861, -9.2861, -9.2861, -8.5929, -9.2861, -7.8998, -6.7211, -7.8998, -5.3349, -9.2861, -9.2861, -6.8882, -7.8998, -8.5929, -9.2861, -9.2861, -9.2861, -7.6767, -9.2861, -9.2861, -9.2861, -6.3957, -9.2861, -6.9835, -2.8759, -3.2699, -3.4196, -3.1993, -3.7488, -3.8265, -3.6128, -4.0657, -4.1621, -4.2047, -4.2491, -4.2889, -4.4578, -4.5587, -4.691, -4.7322, -4.7752, -4.8434, -5.0666, -5.0666, -5.1752, -5.1752, -4.4341, -5.2788, -5.2971, -5.3543, -5.3741, -5.3741, -5.3943, -3.8925, -4.1741, -4.6611, -4.1621, -4.4903, -2.6972, -3.9878, -4.9166, -4.7752, -3.793, -4.3163, -4.0604, -3.3917, -4.2957], \"loglift\": [30.0, 29.0, 28.0, 27.0, 26.0, 25.0, 24.0, 23.0, 22.0, 21.0, 20.0, 19.0, 18.0, 17.0, 16.0, 15.0, 14.0, 13.0, 12.0, 11.0, 10.0, 9.0, 8.0, 7.0, 6.0, 5.0, 4.0, 3.0, 2.0, 1.0, 2.2899, 2.2899, 2.2899, 2.2899, 2.2899, 2.2899, 2.2899, 2.2899, 2.2899, 2.2899, 2.2899, 2.2899, 2.2899, 2.2899, 2.2899, 2.2899, 2.2899, 2.2899, 2.2899, 2.2899, 2.2899, 2.2899, 2.2899, 2.2899, 2.2899, 2.2899, 2.2899, 2.2899, 2.2899, 2.2899, 2.2899, 2.2899, 2.2899, 2.2899, 2.2899, 2.2899, 2.2899, 2.2899, 2.2899, 2.2899, 2.2899, 2.2899, 2.2819, 2.2899, 2.2899, 2.2899, 2.2899, 2.2899, 2.2899, 2.2899, 2.2899, 2.2899, 2.2899, 2.2899, 2.2899, 2.2899, 2.2727, 2.2665, 2.272, 2.236, 2.2596, 2.2566, 1.9874, 2.1256, 2.2362, 2.0853, 2.2269, 2.1321, 2.0367, 2.1433, 1.4587, 1.2156, 0.4896, 2.2971, 2.2971, 2.2971, 2.2971, 2.2971, 2.2971, 2.2971, 2.2971, 2.2971, 2.2971, 2.2971, 2.2971, 2.2971, 2.2971, 2.2971, 2.2971, 2.2971, 2.2971, 2.2971, 2.2971, 2.2971, 2.2971, 2.2971, 2.2971, 2.2971, 2.2971, 2.2971, 2.2971, 2.2971, 2.2971, 2.289, 2.2971, 2.2971, 2.2971, 2.2971, 2.2971, 2.2971, 2.2971, 2.2971, 2.2971, 2.2971, 2.2971, 2.2911, 2.2971, 2.2971, 2.2971, 2.2971, 2.2971, 2.2971, 2.2899, 2.2971, 2.2971, 2.2971, 2.2971, 2.2971, 2.2971, 2.2971, 2.2971, 2.2971, 2.2971, 2.2573, 2.2323, 2.2812, 1.9616, 1.6964, 1.7182, 0.1476, 0.762, 1.8307, 1.8558, 2.2988, 2.2988, 2.2988, 2.2988, 2.2988, 2.2988, 2.2988, 2.2988, 2.2988, 2.2988, 2.2988, 2.2988, 2.2988, 2.2988, 2.2988, 2.2988, 2.2988, 2.2988, 2.2988, 2.2988, 2.2988, 2.2988, 2.2988, 2.2988, 2.2988, 2.2988, 2.2988, 2.2988, 2.2988, 2.2988, 2.2988, 2.2988, 2.2988, 2.2988, 2.2988, 2.2988, 2.2988, 2.2988, 2.2988, 2.2988, 2.2988, 2.2988, 2.2988, 2.2988, 2.2988, 2.2988, 2.2988, 2.2988, 2.2988, 2.2988, 2.2988, 2.2988, 2.2988, 2.2988, 2.2988, 2.2988, 2.2988, 2.2908, 2.2988, 2.2988, 2.2844, 2.288, 2.2866, 2.286, 2.1801, 2.2745, 1.9988, 2.2731, 1.9527, 1.9648, 0.34, 1.8611, 2.215, 1.8084, -0.5732, 2.3005, 2.3005, 2.3005, 2.3005, 2.3005, 2.3005, 2.3005, 2.3005, 2.3005, 2.3005, 2.3005, 2.3005, 2.3005, 2.3005, 2.3005, 2.3005, 2.3005, 2.3005, 2.3005, 2.3005, 2.3005, 2.3005, 2.3005, 2.3005, 2.3005, 2.3005, 2.3005, 2.3005, 2.3005, 2.3005, 2.3005, 2.2985, 2.3005, 2.3005, 2.3005, 2.3005, 2.3005, 2.3005, 2.3005, 2.3005, 2.3005, 2.2924, 2.3005, 2.2946, 2.3005, 2.3005, 2.3005, 2.3005, 2.3005, 2.3005, 2.3005, 2.3005, 2.292, 2.3005, 2.3005, 2.3005, 2.3005, 2.3005, 2.3005, 2.2799, 2.2859, 2.2853, 2.2638, 2.2678, 2.2654, 2.2242, 1.5875, 0.7129, 1.7245, 1.6504, -0.323, 1.7307, 2.302, 2.302, 2.302, 2.302, 2.302, 2.302, 2.302, 2.302, 2.302, 2.302, 2.302, 2.302, 2.302, 2.302, 2.302, 2.302, 2.302, 2.302, 2.302, 2.302, 2.302, 2.302, 2.302, 2.302, 2.302, 2.302, 2.302, 2.302, 2.302, 2.302, 2.3002, 2.302, 2.302, 2.302, 2.302, 2.302, 2.2926, 2.302, 2.302, 2.302, 2.302, 2.302, 2.302, 2.302, 2.302, 2.2836, 2.302, 2.302, 2.302, 2.302, 2.302, 2.302, 2.302, 2.302, 2.2924, 2.2781, 2.2895, 2.2715, 2.0509, 2.2574, 2.1982, 1.8028, 2.0476, 2.212, 1.6284, 1.9021, 1.6274, 1.0471, 1.472, 2.3034, 2.3034, 2.3034, 2.3034, 2.3034, 2.3034, 2.3034, 2.3034, 2.3034, 2.3034, 2.3034, 2.3034, 2.3034, 2.3034, 2.3034, 2.3034, 2.3034, 2.3034, 2.3034, 2.3034, 2.3034, 2.3034, 2.3034, 2.3034, 2.3034, 2.3034, 2.3034, 2.3034, 2.3034, 2.3034, 2.3034, 2.3034, 2.3034, 2.3034, 2.3034, 2.3034, 2.3034, 2.3034, 2.3034, 2.3034, 2.3034, 2.3034, 2.3034, 2.3034, 2.3034, 2.3034, 2.3034, 2.3034, 2.3034, 2.3034, 2.3034, 2.3034, 2.3034, 2.3034, 2.3034, 2.3034, 2.3034, 2.3034, 2.2879, 2.2874, 2.2641, 2.2625, 2.2646, 2.2678, 2.0577, 2.0611, 2.1673, 1.9571, 1.6367, 1.7738, 1.2274, 0.5569, 2.0248, 1.3694, 1.9418, 1.5653, 2.305, 2.305, 2.305, 2.305, 2.305, 2.305, 2.305, 2.305, 2.305, 2.305, 2.305, 2.305, 2.305, 2.305, 2.305, 2.305, 2.305, 2.305, 2.305, 2.305, 2.305, 2.305, 2.305, 2.305, 2.305, 2.305, 2.305, 2.305, 2.305, 2.305, 2.305, 2.305, 2.305, 2.305, 2.3011, 2.305, 2.305, 2.2994, 2.305, 2.305, 2.305, 2.2991, 2.305, 2.305, 2.305, 2.305, 2.305, 2.305, 2.305, 2.305, 2.305, 2.305, 2.305, 2.305, 2.305, 2.305, 2.305, 2.305, 2.305, 2.305, 2.2877, 2.2924, 2.2856, 2.2849, 2.2918, 2.2838, 2.2609, 2.2718, 2.0616, 2.1376, 2.07, 2.2451, 2.1575, 0.6246, -0.3235, 1.705, 1.4692, 1.7206, 2.3066, 2.3066, 2.3066, 2.3066, 2.3066, 2.3066, 2.3066, 2.3066, 2.3066, 2.3066, 2.3066, 2.3066, 2.3066, 2.3066, 2.3066, 2.3066, 2.3066, 2.3066, 2.3066, 2.3066, 2.3066, 2.3066, 2.3066, 2.3066, 2.3066, 2.3066, 2.3066, 2.3066, 2.3066, 2.3066, 2.3066, 2.3066, 2.3066, 2.3066, 2.3066, 2.3066, 2.3066, 2.3066, 2.3066, 2.3066, 2.3066, 2.3066, 2.3066, 2.3066, 2.3066, 2.3066, 2.3066, 2.3066, 2.3066, 2.3066, 2.3066, 2.3066, 2.3066, 2.3066, 2.3066, 2.3066, 2.3066, 2.3066, 2.2958, 2.2801, 2.2771, 2.2704, 2.2906, 2.287, 2.0896, 2.2171, 1.5575, 1.2961, 2.1277, 2.0013, 1.5117, 0.9567, 1.0074, 1.3947, 2.3098, 2.3098, 2.3098, 2.3098, 2.3098, 2.3098, 2.3098, 2.3098, 2.3098, 2.3098, 2.3098, 2.3098, 2.3098, 2.3098, 2.3098, 2.3098, 2.3098, 2.3098, 2.3098, 2.3098, 2.3098, 2.3098, 2.3098, 2.3098, 2.3098, 2.3098, 2.3098, 2.3098, 2.3098, 2.3098, 2.3098, 2.3098, 2.3002, 2.3098, 2.3098, 2.3098, 2.3098, 2.3051, 2.3098, 2.3098, 2.3098, 2.3098, 2.3098, 2.3098, 2.3098, 2.3098, 2.3098, 2.3098, 2.3098, 2.3098, 2.3098, 2.3098, 2.3098, 2.3098, 2.3098, 2.3098, 2.3098, 2.3098, 2.3098, 2.3098, 2.2914, 2.2579, 2.284, 2.2956, 2.2592, 2.2375, 2.0243, 2.1913, 1.5896, 0.7872, 1.3887, 0.7861, 2.3127, 2.3127, 2.3127, 2.3127, 2.3127, 2.3127, 2.3127, 2.3127, 2.3127, 2.3127, 2.3127, 2.3127, 2.3127, 2.3127, 2.3127, 2.3127, 2.3127, 2.3127, 2.3127, 2.3127, 2.3127, 2.3127, 2.3127, 2.3127, 2.3127, 2.3127, 2.3127, 2.3127, 2.3127, 2.3127, 2.3127, 2.3127, 2.3127, 2.3103, 2.3127, 2.3127, 2.3093, 2.3127, 2.3127, 2.3127, 2.3127, 2.3127, 2.3127, 2.3127, 2.3127, 2.3127, 2.3127, 2.3127, 2.3127, 2.3127, 2.3127, 2.3127, 2.3048, 2.3127, 2.3127, 2.3127, 2.3127, 2.3127, 2.3127, 2.2899, 2.2822, 2.2926, 2.2708, 2.2711, 2.1321, 2.1917, 2.2745, 2.2386, 1.8948, 1.9916, 1.7243, -0.6174, 0.9129]}, \"token.table\": {\"Topic\": [10, 8, 2, 3, 8, 1, 9, 8, 2, 8, 8, 10, 9, 6, 3, 6, 4, 8, 5, 9, 1, 10, 4, 7, 3, 3, 3, 9, 9, 7, 6, 10, 2, 8, 7, 3, 7, 8, 8, 6, 2, 3, 2, 4, 3, 7, 10, 6, 7, 3, 8, 10, 4, 8, 1, 9, 4, 9, 2, 3, 7, 3, 8, 2, 10, 1, 3, 8, 3, 6, 8, 8, 4, 8, 7, 1, 4, 5, 6, 8, 2, 3, 9, 9, 10, 7, 5, 2, 2, 6, 9, 10, 9, 7, 6, 6, 1, 5, 6, 2, 9, 6, 4, 9, 10, 10, 1, 4, 5, 9, 2, 6, 2, 4, 7, 10, 3, 7, 3, 2, 3, 5, 7, 1, 4, 7, 9, 2, 3, 4, 7, 2, 10, 1, 6, 9, 9, 6, 8, 3, 7, 5, 6, 2, 2, 5, 10, 5, 6, 2, 4, 4, 5, 6, 4, 10, 4, 2, 3, 3, 8, 9, 2, 7, 5, 4, 8, 5, 3, 2, 9, 8, 9, 7, 3, 1, 3, 4, 4, 5, 10, 4, 10, 9, 4, 2, 1, 6, 8, 1, 4, 1, 4, 5, 9, 8, 10, 6, 8, 9, 9, 3, 4, 8, 3, 9, 4, 8, 8, 5, 10, 9, 7, 6, 5, 9, 2, 10, 1, 3, 9, 2, 7, 7, 9, 1, 2, 1, 9, 5, 3, 2, 8, 6, 1, 3, 4, 1, 10, 1, 2, 8, 3, 5, 6, 2, 1, 8, 2, 5, 6, 5, 10, 6, 8, 10, 10, 5, 6, 6, 3, 1, 1, 9, 1, 2, 7, 2, 10, 10, 9, 3, 10, 2, 8, 6, 8, 9, 7, 8, 3, 7, 3, 6, 5, 1, 7, 3, 1, 4, 2, 4, 5, 9, 1, 8, 8, 10, 7, 10, 10, 8, 3, 7, 3, 1, 3, 8, 9, 9, 6, 9, 10, 9, 2, 3, 10, 4, 7, 3, 10, 3, 3, 7, 10, 4, 1, 1, 4, 3, 3, 3, 1, 9, 10, 2, 3, 4, 5, 6, 7, 8, 10, 2, 4, 6, 10, 5, 4, 7, 7, 7, 4, 5, 10, 5, 10, 1, 9, 6, 1, 7, 9, 10, 5, 10, 6, 4, 8, 7, 8, 7, 3, 10, 6, 2, 5, 6, 4, 3, 4, 8, 4, 1, 9, 7, 7, 8, 5, 7, 8, 2, 8, 9, 10, 3, 5, 3, 8, 6, 4, 7, 2, 6, 7, 9, 10, 4, 3, 5, 6, 1, 4, 3, 5, 10, 6, 9, 8, 4, 5, 1, 6, 7, 5, 1, 9, 5, 4, 1, 4, 8, 10, 6, 4, 2, 4, 10, 4, 2, 5, 2, 8, 6, 4, 3, 6, 1, 4, 1, 7, 5, 4, 1, 6, 10, 7, 7, 6, 7, 2, 4, 8, 6, 9, 3, 9, 10, 5, 9, 1, 3, 4, 1, 10, 3, 6, 8, 10, 1, 4, 7, 7, 7, 10, 4, 2, 4, 8, 6, 7, 5, 7, 7, 5, 7, 5, 7, 3, 2, 8, 3, 6, 7, 8, 9, 10, 9, 10, 2, 4, 5, 9, 6, 10, 7, 5, 2, 7, 8, 7, 1, 1, 9, 9, 5, 6, 4, 7, 1, 1, 6, 9, 6, 4, 6, 8, 2, 5, 5, 3, 1, 4, 4, 8, 9, 4, 6, 2, 1, 5, 8, 2, 1, 10, 6, 9, 9, 6, 3, 7, 1, 2, 5, 7, 9, 6, 7, 1, 2, 7, 5, 7, 5, 6, 2, 8, 5, 8, 3, 5, 9, 9, 2, 8, 8, 6, 6, 6, 3, 8, 5, 2, 3, 5, 7, 4, 1, 2, 3, 7, 10, 5, 7, 4, 10, 1, 1, 7, 10, 1, 2, 10, 9, 10, 7, 5, 5, 6, 3, 3, 2, 9, 5, 3, 10, 1, 10, 5, 8, 1, 1, 5, 10, 7, 10, 2, 9, 8, 2, 1, 8, 10, 7, 10, 1, 3, 3, 4, 1, 8, 7, 9, 1, 8, 3, 5, 1, 9, 1, 10, 3, 3, 7, 4, 1, 6, 2, 3, 8, 3, 8, 3, 7, 3, 2, 3, 8, 10, 2, 4, 3, 1, 5, 2, 2, 9, 3, 5, 10, 2, 3, 4, 9, 9, 9, 6, 2, 8, 5, 3, 1, 6, 7, 8, 1, 8, 5, 9, 9, 3, 3, 10, 2, 10, 3, 6, 10, 7, 1, 9, 2, 4, 1, 3, 6, 6, 9, 3, 7, 6, 3, 9, 1, 6, 8, 1, 9, 5, 8, 7, 6, 4, 8, 3, 4, 3, 7, 2, 6, 4, 10, 4, 5, 2, 6, 4, 4, 10, 1, 6, 5, 7, 7, 4, 9, 3, 8, 8, 7, 6, 10, 2, 8, 5, 8, 8, 7, 10, 2, 4, 7, 6, 9, 3, 8, 4, 4, 7, 10, 5, 4, 5, 4, 1, 10, 7, 6, 6, 6, 8, 4, 8, 1, 9, 10, 4, 6, 9, 1, 4, 5, 6, 4, 8, 2, 9, 6, 1, 7, 2, 7, 2, 7, 10, 4, 10, 8, 5, 10, 1, 4, 4, 5, 8, 6, 5, 7, 10, 7, 10, 4, 7, 10, 6, 4, 1, 2, 4, 6, 4, 6, 10, 2, 9, 1, 9, 5, 4, 5, 9, 10, 5, 8, 4, 5, 9, 5, 2, 5, 6, 1, 10, 10, 7, 5, 8, 3, 9, 3, 9, 1, 8, 9, 2, 8], \"Freq\": [1.0021114777773756, 1.0030926828822226, 0.020701494527675012, 0.8878640986313949, 0.08970647628659172, 0.9778946104248666, 1.0069680912349244, 0.9934475609314322, 0.5480837498106027, 0.4527648368000631, 0.7332875881271104, 0.2636539642704217, 1.0016682591757933, 0.9529970222784323, 1.0034146032648155, 0.994887001279682, 1.0383000812714083, 0.939259512153354, 0.992344765117036, 0.008860221117116393, 0.9978516432906802, 0.9904066716577835, 0.9584308442505307, 0.9936336474087445, 0.9506033083561409, 0.9976628780767421, 1.0029300959720755, 0.9468505932507498, 0.9468505932507498, 1.001240412173596, 1.007453994980057, 1.0086612259981427, 1.0018529128093405, 0.939259512153354, 0.9394354484591766, 0.9173269554108315, 0.06475249097017634, 0.010792081828362724, 0.939259512153354, 1.0144807011351054, 0.9690052763237885, 0.9506033083561409, 0.9690052763237885, 0.9584308442505308, 0.02365143325882086, 0.01182571662941043, 0.9578830469822448, 1.003823530133282, 0.9394354484591766, 1.0006350614275168, 0.939259512153354, 0.9705985382246279, 0.9584308442505308, 0.939259512153354, 0.9778946104248666, 0.998309864623073, 1.0033572900747745, 0.9468505932507497, 0.9690052763237885, 0.9506033083561409, 0.9888794194307122, 0.984144051433411, 0.01348142536210152, 0.9690052763237885, 1.009422479753613, 0.9778946104248664, 1.0019872709699864, 1.0115102438574581, 0.03811604169138457, 0.9624300527074604, 0.939259512153354, 0.9914405961618737, 0.9584308442505308, 1.0010529011108116, 0.9394354484591766, 0.9778946104248666, 0.00819587416540458, 0.2048968541351145, 0.7540204232172213, 0.024587622496213737, 0.9608469598643875, 0.03714614535558199, 0.0024764096903721325, 1.0033789868776601, 0.9705985382246279, 1.0438171649546408, 1.0007698187631358, 1.000096354708509, 0.9690052763237885, 0.01745554238046393, 0.981874258901096, 0.9995099840440849, 0.9847246169807797, 1.0037803421892573, 1.0010472923092777, 0.99189485992245, 1.0204117673998607, 0.989482868390349, 0.00916187841102175, 1.009380496170613, 0.9994534039869024, 0.9529970222784323, 0.9987386834947121, 0.8884660130792784, 0.10851493289517904, 1.0024214411172385, 0.8478396814785499, 0.08761869048714498, 0.03350126400979073, 0.030924243701345284, 0.9690052763237885, 0.9529970222784323, 0.2151983243506096, 0.0005863714559962114, 0.7839786366669347, 1.0008438184525907, 0.9506033083561409, 0.9394354484591766, 0.9506033083561409, 0.9690052763237885, 1.0065211500241493, 0.019779418715575058, 0.9790812264209654, 0.8515695298218993, 0.11463435978371721, 0.032752674223919205, 1.0048210377354896, 0.9894865610845085, 0.006871434451975754, 1.0063523864630572, 1.0098931070936148, 0.9690052763237885, 0.9705985382246277, 0.9993083610181118, 0.7823151516245999, 0.2182373060172283, 0.9468505932507498, 0.9529970222784323, 0.9985811655525131, 0.950603308356141, 1.002064478356455, 0.9435829719766708, 0.9935500870562378, 0.9900706084177839, 0.9968903202467752, 1.0013533580160587, 0.9705985382246279, 1.0086576596991998, 0.9529970222784323, 0.9983690725760246, 1.0040704082624607, 0.9683473399469794, 0.01019312989417873, 0.02038625978835746, 0.9992151354952342, 1.024520679237107, 0.9584308442505308, 0.9999309766319947, 1.0049234974050634, 0.7414581649124138, 0.25885225875640483, 1.0121506341645945, 0.9916493905466328, 0.008263744921221939, 0.9435829719766708, 0.9855272154088396, 0.01368787799178944, 0.9435829719766708, 0.9506033083561409, 0.9993318199941307, 1.0003018364181306, 0.9762466842994516, 0.018419748760367012, 0.9394354484591766, 0.9958701325635763, 0.9778946104248664, 0.9751819660794133, 0.024379549151985334, 1.0010277706616655, 0.9825505834723481, 0.017756938255524365, 0.02156277309992916, 0.9789498987367838, 0.9919387167388807, 1.0148091292064443, 1.0007759411212898, 0.9778946104248666, 0.9976687576977338, 0.9392595121533541, 0.9778946104248664, 0.9584308442505308, 0.01824692872046075, 0.31019778824783273, 0.6690540530835608, 0.9468505932507498, 0.9862224877610218, 1.0011685709246163, 0.9983778328631197, 0.0463958638521797, 0.9464756225844658, 1.0036616288457947, 1.0034146032648155, 1.0022448257019836, 0.9914405961618737, 0.9999852984006159, 1.0069680912349244, 0.9992151354952343, 0.939259512153354, 1.006349477307165, 0.028356335459851695, 0.969786672726928, 0.9966848350007892, 0.9394354484591766, 0.9956685307386606, 0.013335273426641592, 0.9868102335714778, 0.9959220895550049, 1.0020774097346157, 0.9987008787317786, 0.9989390697979786, 0.9966848350007892, 0.005764486843767198, 0.9914917371279579, 1.0025907727253398, 0.9468505932507498, 1.006656216613833, 0.9690052763237885, 0.9854423458869592, 0.01615479255552392, 1.0001979502952711, 1.0024543979028397, 1.0024192513694363, 0.939259512153354, 0.9529970222784323, 0.7388943554597392, 0.0564913130648357, 0.20433028129834188, 0.9968828552874853, 0.9705985382246279, 0.9963454521309961, 0.6276006072940893, 0.36995404219441047, 0.7170092163941233, 0.05195718959377705, 0.23380735317199672, 0.9690052763237885, 0.9778946104248666, 0.939259512153354, 1.0007759411212898, 0.5065737562060331, 0.4935846855340835, 0.9923889877685675, 1.000010615140526, 0.7826661846381932, 0.005797527293616245, 0.20871098257018483, 0.9993333633694359, 1.0161662775133378, 0.9969815002297444, 1.010754417568034, 0.9997724449952518, 1.0036286791202578, 1.0001475851248003, 0.9468505932507498, 0.9777372518571774, 0.017153285120301356, 0.9394354484591766, 1.004029563419829, 0.9705985382246279, 0.9968309311496178, 0.9468505932507498, 1.000635061427517, 0.9705985382246279, 0.9690052763237885, 1.0024030087687055, 0.9816581800967036, 0.014436149707304466, 1.0060287553289216, 1.001376247258683, 0.939259512153354, 0.018245627211522373, 0.985263869422208, 1.0119325540565371, 1.0012907902992987, 0.9932452336596534, 0.9778946104248666, 0.9394354484591766, 0.9977963804021905, 1.0050583496033352, 1.0051835683603128, 0.01976590810365189, 0.9784124511307687, 1.0007698187631358, 0.9468505932507498, 0.9778946104248666, 0.939259512153354, 0.9142388734528257, 0.0831126248593478, 0.9844668607147783, 0.016685878995165732, 0.9705985382246278, 0.939259512153354, 0.05529912427001183, 0.9400851125902011, 0.9938125496450565, 0.996003769877179, 1.0044110427913941, 1.0035923554515287, 0.9468505932507497, 1.0060287553289216, 0.9655835624182257, 0.012222576739471212, 0.024445153478942425, 0.998309864623073, 0.646884950597719, 0.3549978387426507, 1.0079292512332674, 0.9974297217338975, 0.0019519172636671184, 0.9506033083561409, 0.9705985382246279, 1.000635061427517, 0.950603308356141, 0.9906455637991257, 0.012700584151270842, 0.9584308442505308, 1.0002891434880314, 0.00788961215710971, 0.9901463257172685, 0.9996034788899627, 0.9997300943176988, 0.950603308356141, 0.9778946104248664, 0.9941931229132872, 0.9705985382246279, 0.1164972270614106, 0.14105301511847262, 0.07252523449411345, 0.005853414594997346, 0.17431754196321364, 0.0722397020748453, 0.3640538345669081, 0.05339456240314652, 0.9690052763237885, 0.52062414982144, 0.47995038811664, 0.9990063003190073, 0.9435829719766708, 1.000493639922968, 0.9394354484591766, 1.006537980491975, 0.999655669514252, 0.9584308442505308, 1.0010184572274248, 1.001657691447816, 0.27379720263531726, 0.7236068926790528, 0.9778946104248666, 0.9468505932507498, 0.9953524454908069, 1.002809122792379, 0.9394354484591766, 0.9468505932507498, 1.002596292232033, 0.1118023871452454, 0.8858189135354059, 0.9529970222784323, 0.02791538313563448, 0.9677332820353287, 0.9981501639878751, 1.0027229927042565, 0.9394354484591766, 0.9506033083561409, 0.9705985382246279, 0.9529970222784323, 0.7148698305937087, 0.2837369946170905, 0.9529970222784323, 0.9584308442505308, 0.9506033083561409, 0.9662144265217062, 0.033902260579708986, 0.9983654627609696, 0.9515581209948364, 0.04943159070103046, 0.9394354484591766, 0.9925098471809916, 0.005307539289737923, 0.018790360831622048, 0.9770987632443464, 0.9979632316629387, 0.9955533660860841, 0.011080389324502, 0.027700973311255, 0.958453676569423, 1.0044110427913941, 0.99390739714876, 0.9989390697979788, 0.9886942233193201, 1.0045103748340232, 0.9584308442505308, 0.9394354484591766, 0.998779181462229, 0.11490899732794803, 0.7903496889385694, 0.09529038802805447, 0.9705985382246279, 1.0007924285267973, 1.000635061427517, 0.9435829719766708, 1.0144807011351054, 0.9481419473362428, 0.05028025478298258, 0.950603308356141, 0.038472105151461926, 0.9618026287865482, 0.9529970222784323, 1.0014765890152162, 0.9900302965940759, 0.9868089581029854, 0.014301579102941818, 1.0094395978579267, 0.9529970222784323, 0.9394354484591766, 0.9907621205755043, 1.0155059415950538, 0.997574732174897, 0.999823016664022, 1.026890190268426, 0.031889272500719386, 0.5633771475127092, 0.4039307850091122, 1.0065466322329473, 0.9981389864916212, 0.9584308442505307, 0.03344636627839556, 0.9699446220734713, 0.9705985382246279, 0.9584308442505308, 0.9690052763237885, 0.9435829719766708, 0.9690052763237885, 0.939259512153354, 0.9911169031695696, 0.9991774420652484, 0.9506033083561409, 1.0144807011351054, 0.9778946104248666, 1.026890190268426, 1.000994483112068, 0.9394354484591766, 0.9435829719766708, 1.0051835683603128, 0.7791934897884945, 0.2264322961778531, 0.9705985382246279, 0.9394354484591766, 0.9394354484591766, 0.9529970222784323, 0.9981501639878751, 0.9690052763237885, 0.9989279221766096, 0.9998569000342156, 0.9529970222784323, 0.9988753511216701, 0.0016285717950571023, 0.7524001693163813, 0.24591434105362245, 0.9749664035142713, 0.022361614759501637, 0.8146363908952426, 0.10881424715929233, 0.07646406557139461, 1.0013640810750633, 0.9705985382246279, 0.9889541194193195, 0.007666311003250539, 0.0022007372089473693, 0.9969339556531582, 1.0128194179400403, 1.0033572900747745, 0.9394354484591766, 0.9946963571920694, 0.9547532476594126, 0.04191599623870592, 0.9584308442505308, 0.9690052763237885, 0.9584308442505308, 0.9924251449167515, 1.0025033610980911, 1.0034878653995751, 1.0051209918881927, 1.0001949550759393, 1.006537980491975, 1.009414342114578, 0.9996842776952758, 0.9435829719766708, 0.9981501639878751, 1.0298202507191527, 0.9970923857824491, 1.0054045482204914, 0.04917150932181134, 0.030732193326132085, 0.09834301864362267, 0.8051834651446607, 0.012292877330452834, 0.9705985382246279, 0.9972842038664568, 0.004574698182873655, 0.005774059365293038, 0.9931382108304024, 1.0064885034417823, 1.0020069384886574, 0.9529970222784323, 0.970598538224628, 0.9963709301839753, 0.9435829719766708, 0.3895508987467096, 0.5499542099953547, 0.06301558656196773, 0.9821370597527757, 1.0084538170006434, 1.0058344564370056, 0.9468505932507498, 0.9926659445370762, 0.9578766444901572, 0.04164681063000683, 0.012047105297986353, 0.987862634434881, 1.0014583359772729, 0.9778946104248664, 0.9529970222784323, 0.9468505932507498, 0.9529970222784323, 0.30578507956332324, 0.6936100585216844, 0.9392595121533539, 1.003205462546981, 0.9435829719766708, 0.9923889877685675, 1.0298202507191527, 0.9778946104248664, 0.9584308442505307, 0.16579282037609636, 0.8376900397950131, 1.0048210377354896, 0.9584308442505307, 0.9529970222784323, 0.9690052763237885, 1.0170103948418612, 1.02221488630806, 0.9988950367345193, 0.9979308069603195, 0.0033240525307613004, 0.9972157592283902, 0.9529970222784323, 1.0033789868776601, 0.9468505932507498, 0.9529970222784323, 1.0298202507191527, 1.008174627614726, 0.9778946104248666, 0.9998049550333467, 1.009414342114578, 1.0015126807362147, 1.0011780863061208, 0.9825565532129376, 0.014887220503226327, 0.23485337074972445, 0.56144633944856, 0.20182711548804444, 0.7738181848826416, 0.22511074469313214, 0.9435829719766708, 1.0045103748340232, 0.9690052763237885, 0.939259512153354, 1.0034930019434434, 0.9886942233193201, 0.9506033083561409, 0.009086555917185796, 0.9904345949732516, 0.9966848350007891, 0.9690052763237885, 0.9970600975166374, 1.0115102438574581, 0.9529970222784323, 0.9529970222784323, 0.9975295934129385, 0.02494399580534422, 0.9728158364084246, 1.0064885034417823, 0.9996700002580855, 0.006233888457241623, 0.43637219200691363, 0.5548160726945045, 1.0048065302626532, 0.9778946104248664, 0.9690052763237885, 0.9996034788899627, 0.01865345698130759, 0.9793064915186486, 0.9162767202228141, 0.08084794590201301, 0.0075232792786144986, 0.9930728647771139, 0.9984098819722415, 0.43459279367556647, 0.00869185587351133, 0.5562787759047251, 0.01980948793320594, 0.049523719833014845, 0.9310459328606792, 0.9468505932507497, 0.9705985382246279, 1.0034878653995751, 0.9975019989467662, 1.009414342114578, 1.0000586036255152, 0.9506033083561409, 0.9999852984006159, 0.999286691208907, 0.9898892565803292, 0.9997486250705204, 0.987904109209981, 0.012348801365124762, 0.3418966842416012, 0.6574936235415408, 0.9010513799768888, 0.10105249121236136, 0.9778946104248666, 0.9967002760099601, 0.9435829719766708, 0.9705985382246279, 0.9963851369638969, 0.0037885366424482768, 1.00776548737674, 1.0000444468041627, 0.9392595121533539, 1.004894360632077, 0.9985252984085133, 0.9979632316629387, 0.9705985382246279, 0.9946963571920694, 1.0012490183790899, 0.9778946104248666, 0.998133473773948, 0.6130528368530908, 0.39012453254287593, 0.9956745124325912, 1.007569294855416, 0.9394354484591766, 0.9994534039869024, 1.0141129293294913, 1.0040360302328957, 0.9506033083561409, 0.9975019989467662, 0.9613718350401947, 0.03101199467871596, 0.9778946104248666, 0.9705985382246279, 0.9997724449952519, 0.9909291937182207, 0.010111522384879803, 1.00089297026163, 0.9778946104248664, 0.9529970222784323, 0.01921366573869954, 0.7077033547087663, 0.27219359796491016, 0.033861751107210195, 0.9650599065554906, 0.9729613297392298, 0.022627007668354182, 0.9977406624895034, 0.9380041752908784, 0.06182300246235335, 0.9392595121533539, 0.9991455540547641, 0.008192480735608139, 0.9912901690085848, 0.950603308356141, 0.9778946104248666, 0.9435829719766708, 0.9690052763237885, 1.0012078685883252, 0.9468505932507498, 1.0006350614275168, 1.0011185190484189, 0.9705985382246278, 0.9997673485880358, 0.6483317053211386, 0.005788675940367309, 0.3473205564220386, 0.9468505932507498, 0.9468505932507498, 1.0013179980559301, 1.0044566888722197, 0.939259512153354, 1.0007698187631358, 0.9506033083561409, 0.9950506562217939, 0.340940357429072, 0.18628253328399105, 0.47263777630891685, 0.010558164593810896, 0.9924674718182243, 0.9908048619418354, 0.011795295975498039, 0.9468505932507498, 1.000635061427517, 0.9506033083561409, 0.9705985382246279, 0.9844119622493032, 0.015381436910145362, 0.9854116627130715, 0.011593078384859665, 0.9705985382246279, 1.0116997137252672, 0.9939256696121593, 1.002547686971382, 0.9918755584269675, 0.00573338473079172, 0.9770815241295134, 0.02832120359795691, 0.9996472261661876, 0.9529970222784323, 0.9468505932507498, 0.15498092320793586, 0.8453504902251047, 0.9529970222784323, 0.9958701325635763, 0.9468505932507498, 0.9415056737345132, 0.05811763418114279, 0.9914405961618736, 0.06827467809089201, 0.9285356220361313, 0.9435829719766708, 0.998706316720022, 0.9394354484591766, 0.9976687576977338, 1.026890190268426, 0.939259512153354, 0.06984364712140963, 0.9279227403272993, 0.9506033083561409, 0.9916263067069087, 0.03739665984983069, 0.9629639911331402, 0.9584308442505308, 0.9963666410093526, 0.9975504705464708, 1.0161662775133378, 0.9690052763237885, 0.9963150687456337, 0.9584308442505308, 0.9584308442505307, 1.0024214411172385, 0.8662222473248931, 0.1407611151902951, 0.9813262908557376, 0.9961255186248166, 0.9888794194307122, 1.0046202825276647, 0.9468505932507498, 0.01515226335561058, 0.9848971181146877, 0.9937093389448528, 1.0001949550759393, 0.9529970222784323, 1.005893030523705, 0.9690052763237884, 0.939259512153354, 1.0109817556892902, 0.9996404807917839, 1.0054045482204914, 1.002064478356455, 0.9705985382246279, 0.9690052763237885, 1.0030090230528812, 0.9394354484591766, 0.5134882420404823, 0.48712847602197706, 0.9506033083561409, 1.0018768129635776, 1.0046202825276647, 0.5642105994304172, 0.4327028657285906, 0.004242184958123438, 1.0064885034417823, 0.9584308442505308, 0.9923889877685675, 0.9584308442505308, 1.0019411992058058, 1.0007413499707343, 1.011699713725267, 0.9529970222784323, 0.9529970222784323, 0.9689393294215659, 0.03284540099734122, 0.9584308442505308, 0.9886942233193201, 0.016624240664478814, 0.9725180788720106, 0.008312120332239407, 0.012563281507433811, 0.5883803505981501, 0.39783724773540396, 0.9778946104248664, 0.49011114725791155, 0.5104383376971797, 0.9994846819017704, 1.002395561876702, 1.0097039755648556, 0.9690052763237885, 1.0069680912349244, 0.9986495742438661, 0.9770057829036206, 0.02171123962008046, 0.9690052763237885, 0.9394354484591766, 0.9690052763237885, 0.9969519044872895, 0.9994853994813132, 0.996768078020552, 0.9705985382246279, 0.9886942233193201, 1.0079181746114438, 1.009422479753613, 0.9778946104248666, 0.9983654627609696, 1.0116770022644492, 1.0040690599238933, 0.939259512153354, 0.9529970222784323, 0.9907621205755043, 0.9394354484591766, 0.9705985382246279, 0.8590166998044557, 0.13308709433590157, 0.03133521631482467, 0.9713917057595648, 0.9991455540547641, 0.9995238129283893, 1.0013456581721965, 1.002341975685488, 0.9690052763237885, 0.12198342648935923, 0.8760627902417617, 0.29307507894033946, 0.7075669762988196, 1.004854957220791, 1.0011714265752008, 0.9468505932507498, 0.9925758778049794, 0.007462976524849468, 1.0001979502952711, 1.0022448257019836, 0.9728593355736601, 0.014412730897387557, 0.014412730897387557, 0.9932452336596534, 1.005172460374642, 0.003789544234879015, 0.7779934314206618, 0.21827774792903126, 0.996004248197597, 0.9690052763237885, 0.6080231785240393, 0.3921308904973877, 0.16493924583506167, 0.8347263184490621, 0.9705985382246279, 0.9394354484591766, 0.9980456872013774, 0.0017571226887348195, 1.0065211500241493, 1.0002221298222953, 0.950603308356141, 0.9468505932507498, 0.04309859231502912, 0.006156941759289874, 0.9481690309306406, 0.9690052763237885, 0.9392595121533539], \"Term\": [\"abl\", \"abus\", \"access\", \"access\", \"access\", \"accomplish\", \"achiev\", \"act\", \"action\", \"action\", \"activ\", \"activ\", \"activist\", \"adaku\", \"addit\", \"address\", \"administr\", \"admit\", \"adolesc\", \"adolesc\", \"advanc\", \"advocaci\", \"af\", \"affect\", \"afoo\", \"africa\", \"african\", \"afsarch\", \"afsusa\", \"age\", \"agenc\", \"agenda\", \"agre\", \"alessandra\", \"alleg\", \"allmeansal\", \"allmeansal\", \"allmeansal\", \"alon\", \"amaz\", \"angri\", \"annisa\", \"appl\", \"applaud\", \"appreci\", \"appreci\", \"appreci\", \"approach\", \"archiv\", \"area\", \"arrest\", \"artemi\", \"arv\", \"assert\", \"assess\", \"associ\", \"awar\", \"awe\", \"azaadi\", \"ballot\", \"bangladesh\", \"barrier\", \"barrier\", \"barriers\", \"becom\", \"behalf\", \"beijing\", \"belief\", \"benefit\", \"benefit\", \"bhagyashri\", \"bias\", \"biden\", \"black\", \"blackgirlmag\", \"blackgirlsrock\", \"blog\", \"blog\", \"blog\", \"blog\", \"boy\", \"boy\", \"boy\", \"break\", \"breakdown\", \"bulli\", \"busi\", \"call\", \"calltoactiongbv\", \"camf\", \"camf\", \"campaign\", \"capac\", \"care\", \"case\", \"caus\", \"cc\", \"celebr\", \"celebr\", \"central\", \"ceo\", \"chairwoman\", \"challeng\", \"champion\", \"champion\", \"chanc\", \"chang\", \"chang\", \"chang\", \"chang\", \"character\", \"chesterman\", \"child\", \"child\", \"child\", \"childmarriag\", \"christoph\", \"cio\", \"civilright\", \"clarenc\", \"class\", \"classroom\", \"classroom\", \"climat\", \"climat\", \"climat\", \"close\", \"closur\", \"closur\", \"coalit\", \"color\", \"columbus\", \"command\", \"commit\", \"communiti\", \"communiti\", \"competit\", \"compil\", \"complet\", \"comput\", \"concern\", \"conduct\", \"confid\", \"conflict\", \"conflict_displac\", \"congratul\", \"connected\", \"consequ\", \"conspiraci\", \"context\", \"continu\", \"contribut\", \"contribut\", \"contribut\", \"convers\", \"coordin\", \"corona\", \"coronavirus\", \"cost\", \"countri\", \"countri\", \"cours\", \"covid\", \"covid\", \"cox\", \"creat\", \"creat\", \"credit\", \"criminalis\", \"crisi\", \"critic\", \"crucial\", \"crucial\", \"csedweek\", \"cultur\", \"damag\", \"data\", \"data\", \"date\", \"day\", \"day\", \"dayofthegirl\", \"dayofthegirl\", \"dear\", \"debat\", \"decad\", \"decemb\", \"decis\", \"defiant\", \"deliv\", \"demo\", \"develop\", \"develop\", \"develop\", \"devot\", \"didyouknow\", \"differ\", \"difficult\", \"digit\", \"digit\", \"digniti\", \"director\", \"disabl\", \"disciplin\", \"discrimin\", \"discus\", \"discuss\", \"dismantl\", \"dispar\", \"district\", \"district\", \"divid\", \"djiboutian\", \"domest\", \"donat\", \"donat\", \"donor\", \"dream\", \"drive\", \"drop\", \"dropout\", \"due\", \"due\", \"earli\", \"earthdayweek\", \"eat\", \"ece\", \"econom\", \"econom\", \"economi\", \"ecw\", \"ecwresult\", \"edelman\", \"edpolici\", \"educ\", \"educ\", \"educ\", \"educate_equ\", \"educateforequ\", \"educatetoempow\", \"effect\", \"effect\", \"effort\", \"effort\", \"effort\", \"eglantyn\", \"eie\", \"eilish\", \"emerg\", \"empow\", \"empow\", \"empower\", \"encourag\", \"end\", \"end\", \"end\", \"endchildmarriag\", \"endfgm\", \"endsrgbv\", \"engag\", \"enrol\", \"environ\", \"equal\", \"equalworld\", \"equiti\", \"equiti\", \"erden\", \"essenti\", \"evan\", \"everyon\", \"exchangestud\", \"exclus\", \"exhibit\", \"exp\", \"experi\", \"expert\", \"expert\", \"expertis\", \"exploit\", \"extern\", \"face\", \"face\", \"fact\", \"famili\", \"farm\", \"fatma\", \"favorit\", \"femal\", \"feminist\", \"field\", \"fight\", \"fight\", \"find\", \"fla\", \"flexalumni\", \"floor\", \"focus\", \"focus\", \"food\", \"food\", \"foot\", \"footbal\", \"forc\", \"forc\", \"form\", \"forum\", \"free\", \"freetobeonlin\", \"fresh\", \"friend\", \"full\", \"full\", \"full\", \"full_potenti\", \"fund\", \"fund\", \"fundeduc\", \"futur\", \"futur\", \"galleri\", \"galvanis\", \"gap\", \"gay\", \"gbv\", \"gbv\", \"gdp\", \"gender\", \"genderequ\", \"genderequ\", \"generat\", \"generationequ\", \"geneva\", \"genkit\", \"ghana\", \"giant\", \"girl\", \"girl\", \"girl\", \"girl\", \"girl\", \"girl\", \"girl\", \"girl\", \"girlhood\", \"girlseduc\", \"girlseduc\", \"girlsfirstfund\", \"girlswhocod\", \"global\", \"globalideathon\", \"globe\", \"good\", \"gop\", \"govern\", \"gpe\", \"great\", \"great\", \"gresp\", \"grimm\", \"group\", \"guid\", \"gupta\", \"hair\", \"hand\", \"happi\", \"happi\", \"happywomensday\", \"harass\", \"harass\", \"hard\", \"harm\", \"hasab\", \"hatau\", \"hatwood\", \"hbcus\", \"health\", \"health\", \"height\", \"henc\", \"hibo\", \"high\", \"high\", \"higher\", \"highlight\", \"highlight\", \"homag\", \"home\", \"home\", \"hope\", \"hope\", \"household\", \"huge\", \"human\", \"human\", \"human\", \"humanitarian\", \"hygien\", \"iamthe_stgirl\", \"idea\", \"ident\", \"ideof\", \"iew\", \"impact\", \"import\", \"import\", \"import\", \"incap\", \"inclus\", \"increas\", \"indian\", \"individu\", \"inequ\", \"inequ\", \"infant\", \"inform\", \"inform\", \"infract\", \"initi\", \"injustic\", \"innov\", \"innov\", \"insight\", \"insurmount\", \"intent\", \"interest\", \"intergener\", \"intergener_dialogu\", \"intern\", \"intersect\", \"invest\", \"invest\", \"invest\", \"isingiro_district\", \"issu\", \"ivi\", \"iwd\", \"iwd\", \"ixchel\", \"jane\", \"janti\", \"januari\", \"jebb\", \"jinnah\", \"job\", \"join\", \"jose\", \"journey\", \"jr\", \"juli\", \"justic\", \"justiceacceler\", \"karamoja\", \"kenya\", \"key\", \"key\", \"king\", \"klye\", \"kpk\", \"lag\", \"latest\", \"latina\", \"launch\", \"law\", \"lawsuit\", \"lead\", \"leader\", \"leader\", \"leader\", \"leadership\", \"leadership\", \"learn\", \"learn\", \"learn\", \"learner\", \"letstalkeup\", \"level\", \"level\", \"life\", \"life\", \"limit\", \"live\", \"llm\", \"local\", \"lockdown\", \"lockdown\", \"london\", \"lubna\", \"luxuri\", \"major\", \"make\", \"malawi\", \"manag\", \"mani\", \"mari\", \"mark\", \"marriag\", \"mass\", \"materi\", \"matern\", \"measur\", \"medium\", \"meet\", \"meet\", \"meet\", \"meet\", \"meet\", \"megha\", \"member\", \"member\", \"men\", \"men\", \"menstrual\", \"menstruat\", \"mentalhealth\", \"merci\", \"messag\", \"method\", \"million\", \"million\", \"million\", \"mind\", \"minist\", \"mission\", \"mlkday\", \"mondaymotiv\", \"month\", \"month\", \"mother\", \"mother\", \"movement\", \"mp\", \"multistakehold\", \"murder\", \"murray\", \"nation\", \"nation\", \"nationwid\", \"natur_disast\", \"negoti\", \"news\", \"newslett\", \"nivaal\", \"nkula\", \"norm\", \"norm\", \"normal\", \"north\", \"numer\", \"obaidur\", \"oct\", \"offici\", \"onlin\", \"open\", \"opportun\", \"opportun\", \"oregon\", \"organ\", \"otd\", \"outrag\", \"overcom\", \"pakistan\", \"pan\", \"pandem\", \"panel\", \"parent\", \"part\", \"particip\", \"particip\", \"partner\", \"partner\", \"partner\", \"partnership\", \"partnership\", \"passeng\", \"passion\", \"paullin\", \"pd\", \"peac\", \"peer\", \"pen\", \"peopl\", \"peopl\", \"period\", \"perman\", \"person\", \"piec\", \"pielive\", \"pillar\", \"place\", \"platform\", \"platform\", \"play\", \"pleas\", \"polici\", \"polici\", \"polici\", \"polit\", \"poorer\", \"pose\", \"posit\", \"possibl\", \"possibl\", \"post\", \"post\", \"potenti\", \"potenti\", \"poverti\", \"power\", \"power\", \"power\", \"practic\", \"practic\", \"practic\", \"preced\", \"precis\", \"pregnanc\", \"pregnant\", \"presid\", \"prevent\", \"price\", \"primari\", \"prioriti\", \"product\", \"program\", \"programm\", \"programm\", \"progress\", \"progress\", \"project\", \"project\", \"promin\", \"promot\", \"proof\", \"prosper\", \"protect\", \"protect\", \"protract\", \"proud\", \"pt\", \"public\", \"qualiti\", \"racial\", \"radicalinclus\", \"radio\", \"raiseyourhand\", \"rank\", \"reach\", \"read\", \"read\", \"real\", \"realiti\", \"realtalk\", \"reason\", \"receiv\", \"recent\", \"recip\", \"recommend\", \"recoveri\", \"recoveri\", \"reduct\", \"refresh\", \"refuge\", \"region\", \"region\", \"regist\", \"reimagin\", \"relay\", \"report\", \"report\", \"report\", \"research\", \"research\", \"resili\", \"resili\", \"resourc\", \"respons\", \"respons\", \"restor\", \"result\", \"return\", \"return\", \"reveal\", \"revitalis\", \"rhschelsea\", \"rima\", \"risk\", \"roch\", \"rohingya\", \"role\", \"roundup\", \"rt\", \"rural\", \"rural\", \"rural\", \"sabaq\", \"sabrina\", \"safe\", \"safeti\", \"sandhya\", \"sanit\", \"saroj\", \"saveourfutur\", \"school\", \"school\", \"school\", \"schooldisciplin\", \"schooldisciplin\", \"scienc\", \"scienc\", \"scorecard\", \"secondari\", \"secret\", \"secretariat\", \"sector\", \"sector\", \"secur\", \"secur\", \"seiz\", \"sens\", \"sensit\", \"seri\", \"servic\", \"servic\", \"session\", \"session\", \"sexual\", \"sgbv\", \"shapetheworld\", \"share\", \"share\", \"shoot\", \"show\", \"shower\", \"sign\", \"sign\", \"situat\", \"skill\", \"skill\", \"sleep\", \"social\", \"socialstudi\", \"societi\", \"socio\", \"soeripto\", \"solut\", \"solut\", \"solvingit\", \"someon\", \"space\", \"space\", \"spark\", \"speak\", \"special\", \"specif\", \"spotifi\", \"srgbv\", \"srh\", \"stake\", \"stakehold\", \"stand\", \"stand\", \"status_quo\", \"stay\", \"staysafeug\", \"stem\", \"stemthegap\", \"step\", \"step\", \"stereotyp\", \"stori\", \"storm\", \"strategi\", \"stress\", \"stressor\", \"strive\", \"student\", \"studi\", \"subscrib\", \"suffrag\", \"sukaina\", \"summit\", \"super\", \"support\", \"support\", \"suppress\", \"suspens\", \"sustain\", \"system\", \"system\", \"system\", \"tabl\", \"takeaway\", \"talk\", \"task\", \"teacher\", \"team\", \"teenag_pregnanc\", \"texa\", \"theori\", \"thing\", \"thing\", \"thoma\", \"threat\", \"thrive\", \"thrive\", \"thrive\", \"time\", \"time\", \"time\", \"tireless\", \"today\", \"today\", \"togetherwecan\", \"tomorrow\", \"top\", \"toughest\", \"train\", \"transform\", \"transformeduc\", \"transformeduc\", \"trip\", \"tsehai\", \"ty\", \"ug\", \"uganda\", \"uk\", \"ultim\", \"unaccept\", \"understand\", \"unga\", \"ungei\", \"union\", \"uniqu\", \"univers\", \"unplan\", \"unquantifi\", \"urg\", \"usaid\", \"vibe\", \"victim\", \"victim\", \"video\", \"video\", \"violat\", \"violenc\", \"virtual\", \"vision\", \"visual\", \"vital\", \"vital\", \"voic\", \"voic\", \"vowforgirl\", \"vulner\", \"waltj\", \"watch\", \"watch\", \"water\", \"webinar\", \"week\", \"week\", \"week\", \"wfp\", \"white\", \"woman\", \"woman\", \"woman\", \"womeninsci\", \"womenvet\", \"work\", \"work\", \"world\", \"world\", \"wright\", \"writeshop\", \"year\", \"year\", \"yemen\", \"young\", \"younger\", \"youssouf\", \"youth\", \"youth\", \"youth\", \"zira\", \"zone\"]}, \"R\": 30, \"lambda.step\": 0.01, \"plot.opts\": {\"xlab\": \"PC1\", \"ylab\": \"PC2\"}, \"topic.order\": [9, 4, 1, 3, 8, 10, 7, 5, 2, 6]};\n",
       "\n",
       "function LDAvis_load_lib(url, callback){\n",
       "  var s = document.createElement('script');\n",
       "  s.src = url;\n",
       "  s.async = true;\n",
       "  s.onreadystatechange = s.onload = callback;\n",
       "  s.onerror = function(){console.warn(\"failed to load library \" + url);};\n",
       "  document.getElementsByTagName(\"head\")[0].appendChild(s);\n",
       "}\n",
       "\n",
       "if(typeof(LDAvis) !== \"undefined\"){\n",
       "   // already loaded: just create the visualization\n",
       "   !function(LDAvis){\n",
       "       new LDAvis(\"#\" + \"ldavis_el1522418259132988326669600551\", ldavis_el1522418259132988326669600551_data);\n",
       "   }(LDAvis);\n",
       "}else if(typeof define === \"function\" && define.amd){\n",
       "   // require.js is available: use it to load d3/LDAvis\n",
       "   require.config({paths: {d3: \"https://cdnjs.cloudflare.com/ajax/libs/d3/3.5.5/d3.min\"}});\n",
       "   require([\"d3\"], function(d3){\n",
       "      window.d3 = d3;\n",
       "      LDAvis_load_lib(\"https://cdn.rawgit.com/bmabey/pyLDAvis/files/ldavis.v1.0.0.js\", function(){\n",
       "        new LDAvis(\"#\" + \"ldavis_el1522418259132988326669600551\", ldavis_el1522418259132988326669600551_data);\n",
       "      });\n",
       "    });\n",
       "}else{\n",
       "    // require.js not available: dynamically load d3 & LDAvis\n",
       "    LDAvis_load_lib(\"https://cdnjs.cloudflare.com/ajax/libs/d3/3.5.5/d3.min.js\", function(){\n",
       "         LDAvis_load_lib(\"https://cdn.rawgit.com/bmabey/pyLDAvis/files/ldavis.v1.0.0.js\", function(){\n",
       "                 new LDAvis(\"#\" + \"ldavis_el1522418259132988326669600551\", ldavis_el1522418259132988326669600551_data);\n",
       "            })\n",
       "         });\n",
       "}\n",
       "</script>"
      ],
      "text/plain": [
       "PreparedData(topic_coordinates=              x         y  topics  cluster       Freq\n",
       "topic                                                \n",
       "8     -0.193199 -0.327151       1        1  10.128040\n",
       "3      0.165959  0.024330       2        1  10.054571\n",
       "0      0.140331 -0.092414       3        1  10.037441\n",
       "2     -0.027460 -0.228506       4        1  10.020521\n",
       "7     -0.251852  0.164981       5        1  10.005448\n",
       "9      0.115808  0.130951       6        1   9.991666\n",
       "6      0.147464  0.081730       7        1   9.975664\n",
       "4      0.245389  0.051797       8        1   9.959514\n",
       "1     -0.267105  0.230957       9        1   9.927645\n",
       "5     -0.075335 -0.036676      10        1   9.899489, topic_info=         Term         Freq        Total Category  logprob  loglift\n",
       "107      educ  3327.000000  3327.000000  Default  30.0000  30.0000\n",
       "13      woman  2638.000000  2638.000000  Default  29.0000  29.0000\n",
       "193      girl  7004.000000  7004.000000  Default  28.0000  28.0000\n",
       "91      covid  1573.000000  1573.000000  Default  27.0000  27.0000\n",
       "192     young  1517.000000  1517.000000  Default  26.0000  26.0000\n",
       "..        ...          ...          ...      ...      ...      ...\n",
       "444  progress   250.360979   380.231824  Topic10  -3.7930   1.8948\n",
       "37      great   148.362061   204.530943  Topic10  -4.3163   1.9916\n",
       "230     power   191.634329   345.150684  Topic10  -4.0604   1.7243\n",
       "193      girl   373.996030  7004.458566  Topic10  -3.3917  -0.6174\n",
       "166    leader   151.452938   614.034950  Topic10  -4.2957   0.9129\n",
       "\n",
       "[762 rows x 6 columns], token_table=      Topic      Freq    Term\n",
       "term                         \n",
       "824      10  1.002111     abl\n",
       "709       8  1.003093    abus\n",
       "602       2  0.020701  access\n",
       "602       3  0.887864  access\n",
       "602       8  0.089706  access\n",
       "...     ...       ...     ...\n",
       "1140      1  0.043099   youth\n",
       "1140      8  0.006157   youth\n",
       "1140      9  0.948169   youth\n",
       "2289      2  0.969005    zira\n",
       "2230      8  0.939260    zone\n",
       "\n",
       "[886 rows x 3 columns], R=30, lambda_step=0.01, plot_opts={'xlab': 'PC1', 'ylab': 'PC2'}, topic_order=[9, 4, 1, 3, 8, 10, 7, 5, 2, 6])"
      ]
     },
     "execution_count": 17,
     "metadata": {},
     "output_type": "execute_result"
    }
   ],
   "source": [
    "pyLDAvis.enable_notebook()\n",
    "\n",
    "# LDAvis_data_filepath = os.path.join('./results/ldavis_prepared_'+str(11))\n",
    "\n",
    "# model = gensim.models.wrappers.ldamallet.malletmodel2ldamodel(model_list[1])\n",
    "mallet_model = LdaMallet(mallet_path, corpus=corpus, num_topics=10, id2word=id2word, iterations=300, random_seed=12345)\n",
    "model = gensim.models.wrappers.ldamallet.malletmodel2ldamodel(mallet_model)\n",
    "LDAvis_prepared = pyLDAvis.gensim.prepare(model, corpus, id2word)\n",
    "\n",
    "LDAvis_prepared"
   ]
  },
  {
   "cell_type": "code",
   "execution_count": 18,
   "id": "indirect-productivity",
   "metadata": {
    "ExecuteTime": {
     "end_time": "2021-03-17T16:51:10.896378Z",
     "start_time": "2021-03-17T16:51:10.883481Z"
    }
   },
   "outputs": [],
   "source": [
    "def format_topics_sentences(ldamallet, corpus, texts):\n",
    "    # Init output\n",
    "    sent_topics_df = pd.DataFrame()\n",
    "\n",
    "    # Get main topic in each document\n",
    "    for i, row in enumerate(tqdm(ldamallet[corpus])):\n",
    "        row = sorted(row, key=lambda x: (x[1]), reverse=True)\n",
    "        # Get the Dominant topic, Perc Contribution and Keywords for each document\n",
    "        for j, (topic_num, prop_topic) in enumerate(row):\n",
    "            \n",
    "            if j == 0:  # => dominant topic\n",
    "                wp = ldamallet.show_topic(topic_num, num_words=30)\n",
    "                topic_keywords = \", \".join([word for word, prop in wp])\n",
    "                sent_topics_df = sent_topics_df.append(pd.Series([int(topic_num), round(prop_topic,4), topic_keywords]), ignore_index=True)\n",
    "            else:\n",
    "                break\n",
    "    sent_topics_df.columns = ['Dominant_Topic', 'Perc_Contribution', 'Topic_Keywords']\n",
    "\n",
    "    # Add original text to the end of the output\n",
    "    contents = pd.Series(texts)\n",
    "    sent_topics_df = pd.concat([sent_topics_df, contents], axis=1)\n",
    "    return(sent_topics_df)"
   ]
  },
  {
   "cell_type": "code",
   "execution_count": 19,
   "id": "correct-opposition",
   "metadata": {
    "ExecuteTime": {
     "end_time": "2021-03-17T16:51:37.974712Z",
     "start_time": "2021-03-17T16:51:10.897973Z"
    }
   },
   "outputs": [
    {
     "name": "stderr",
     "output_type": "stream",
     "text": [
      "  0%|                                                                                         | 0/9058 [00:00<?, ?it/s]C:\\ProgramFiles\\anaconda3\\envs\\twitter\\lib\\site-packages\\gensim\\models\\wrappers\\ldamallet.py:442: UserWarning: The parameter `num_words` is deprecated, will be removed in 4.0.0, use `topn` instead.\n",
      "  warnings.warn(\"The parameter `num_words` is deprecated, will be removed in 4.0.0, use `topn` instead.\")\n",
      "100%|█████████████████████████████████████████████████████████████████████████████| 9058/9058 [00:22<00:00, 395.01it/s]\n"
     ]
    }
   ],
   "source": [
    "df_topic_sents_keywords = format_topics_sentences(ldamallet=mallet_model, corpus=corpus, texts=bigram_words_list)"
   ]
  },
  {
   "cell_type": "code",
   "execution_count": 20,
   "id": "artificial-titanium",
   "metadata": {
    "ExecuteTime": {
     "end_time": "2021-03-17T16:51:37.990479Z",
     "start_time": "2021-03-17T16:51:37.976109Z"
    }
   },
   "outputs": [],
   "source": [
    "# Format\n",
    "df_dominant_topic = df_topic_sents_keywords.reset_index()\n",
    "df_dominant_topic.columns = ['Document_No', 'Dominant_Topic', 'Topic_Perc_Contrib', 'Keywords', 'Text']"
   ]
  },
  {
   "cell_type": "code",
   "execution_count": 21,
   "id": "electrical-monte",
   "metadata": {
    "ExecuteTime": {
     "end_time": "2021-03-17T16:51:38.035996Z",
     "start_time": "2021-03-17T16:51:37.991996Z"
    }
   },
   "outputs": [
    {
     "data": {
      "text/html": [
       "<div>\n",
       "<style scoped>\n",
       "    .dataframe tbody tr th:only-of-type {\n",
       "        vertical-align: middle;\n",
       "    }\n",
       "\n",
       "    .dataframe tbody tr th {\n",
       "        vertical-align: top;\n",
       "    }\n",
       "\n",
       "    .dataframe thead th {\n",
       "        text-align: right;\n",
       "    }\n",
       "</style>\n",
       "<table border=\"1\" class=\"dataframe\">\n",
       "  <thead>\n",
       "    <tr style=\"text-align: right;\">\n",
       "      <th></th>\n",
       "      <th>index</th>\n",
       "      <th>screen_name</th>\n",
       "      <th>text</th>\n",
       "      <th>created_at</th>\n",
       "      <th>Document_No</th>\n",
       "      <th>Dominant_Topic</th>\n",
       "      <th>Topic_Perc_Contrib</th>\n",
       "      <th>Keywords</th>\n",
       "      <th>Text</th>\n",
       "    </tr>\n",
       "  </thead>\n",
       "  <tbody>\n",
       "    <tr>\n",
       "      <th>0</th>\n",
       "      <td>0</td>\n",
       "      <td>AASCUPolicy</td>\n",
       "      <td>.@MorganStateU Alumna Yogananda D. Pittman App...</td>\n",
       "      <td>2021-01-12 17:14:20.000000</td>\n",
       "      <td>0</td>\n",
       "      <td>7.0</td>\n",
       "      <td>0.1389</td>\n",
       "      <td>woman, year, day, work, govern, today, adolesc...</td>\n",
       "      <td>[alumna, yogananda, pittman, chief, capitol, p...</td>\n",
       "    </tr>\n",
       "    <tr>\n",
       "      <th>1</th>\n",
       "      <td>1</td>\n",
       "      <td>AASCUPolicy</td>\n",
       "      <td>Analysis of Fed Experiment on Short-Term Pell\\...</td>\n",
       "      <td>2020-12-16 16:05:14.000000</td>\n",
       "      <td>1</td>\n",
       "      <td>4.0</td>\n",
       "      <td>0.1667</td>\n",
       "      <td>girl, school, student, social, onlin, action, ...</td>\n",
       "      <td>[analysi, experi, short, term, benefit, shorte...</td>\n",
       "    </tr>\n",
       "    <tr>\n",
       "      <th>2</th>\n",
       "      <td>2</td>\n",
       "      <td>AASCUPolicy</td>\n",
       "      <td>On 9.25.1981, Justice Sandra Day O'Connor was ...</td>\n",
       "      <td>2020-09-25 17:40:04.000000</td>\n",
       "      <td>2</td>\n",
       "      <td>7.0</td>\n",
       "      <td>0.1528</td>\n",
       "      <td>woman, year, day, work, govern, today, adolesc...</td>\n",
       "      <td>[justic, day, sworn, woman, justic, suprem, co...</td>\n",
       "    </tr>\n",
       "    <tr>\n",
       "      <th>3</th>\n",
       "      <td>3</td>\n",
       "      <td>AASCUPolicy</td>\n",
       "      <td>AASCU's @PresMillieG recognized the legacy of ...</td>\n",
       "      <td>2020-09-21 18:38:10.000000</td>\n",
       "      <td>3</td>\n",
       "      <td>7.0</td>\n",
       "      <td>0.1406</td>\n",
       "      <td>woman, year, day, work, govern, today, adolesc...</td>\n",
       "      <td>[legaci, justic, ruth, bader, ginsburg, grate,...</td>\n",
       "    </tr>\n",
       "    <tr>\n",
       "      <th>4</th>\n",
       "      <td>4</td>\n",
       "      <td>AASCUPolicy</td>\n",
       "      <td>We have lost a pioneer &amp;amp; champion for wome...</td>\n",
       "      <td>2020-09-19 13:50:38.000001</td>\n",
       "      <td>4</td>\n",
       "      <td>8.0</td>\n",
       "      <td>0.1193</td>\n",
       "      <td>educ, gender, equal, chang, learn, teacher, qu...</td>\n",
       "      <td>[pioneer, champion, woman, equal, justic, rgb,...</td>\n",
       "    </tr>\n",
       "    <tr>\n",
       "      <th>...</th>\n",
       "      <td>...</td>\n",
       "      <td>...</td>\n",
       "      <td>...</td>\n",
       "      <td>...</td>\n",
       "      <td>...</td>\n",
       "      <td>...</td>\n",
       "      <td>...</td>\n",
       "      <td>...</td>\n",
       "      <td>...</td>\n",
       "    </tr>\n",
       "    <tr>\n",
       "      <th>9053</th>\n",
       "      <td>9056</td>\n",
       "      <td>ASERPAKISTAN</td>\n",
       "      <td>Through assessment of children’s basic compete...</td>\n",
       "      <td>2020-03-09 11:15:23.000000</td>\n",
       "      <td>9053</td>\n",
       "      <td>8.0</td>\n",
       "      <td>0.1313</td>\n",
       "      <td>educ, gender, equal, chang, learn, teacher, qu...</td>\n",
       "      <td>[assess, child, basic, compet, regular, impact...</td>\n",
       "    </tr>\n",
       "    <tr>\n",
       "      <th>9054</th>\n",
       "      <td>9057</td>\n",
       "      <td>ASERPAKISTAN</td>\n",
       "      <td>The latest Annual Status of Education Report @...</td>\n",
       "      <td>2020-03-09 11:15:18.000000</td>\n",
       "      <td>9054</td>\n",
       "      <td>4.0</td>\n",
       "      <td>0.1498</td>\n",
       "      <td>girl, school, student, social, onlin, action, ...</td>\n",
       "      <td>[latest, annual, status, educ, report, child, ...</td>\n",
       "    </tr>\n",
       "    <tr>\n",
       "      <th>9055</th>\n",
       "      <td>9058</td>\n",
       "      <td>ASERPAKISTAN</td>\n",
       "      <td>Our students from Fatima Jinnah Girls High Sch...</td>\n",
       "      <td>2020-03-09 11:15:14.000000</td>\n",
       "      <td>9055</td>\n",
       "      <td>8.0</td>\n",
       "      <td>0.1438</td>\n",
       "      <td>educ, gender, equal, chang, learn, teacher, qu...</td>\n",
       "      <td>[student, jinnah, girl, high, school, shehzada...</td>\n",
       "    </tr>\n",
       "    <tr>\n",
       "      <th>9056</th>\n",
       "      <td>9059</td>\n",
       "      <td>ASERPAKISTAN</td>\n",
       "      <td>With evidence that where you have Equality the...</td>\n",
       "      <td>2020-03-09 04:27:27.000000</td>\n",
       "      <td>9056</td>\n",
       "      <td>5.0</td>\n",
       "      <td>0.1132</td>\n",
       "      <td>world, endchildmarriag, life, girlsfirstfund, ...</td>\n",
       "      <td>[evid, equal, girl]</td>\n",
       "    </tr>\n",
       "    <tr>\n",
       "      <th>9057</th>\n",
       "      <td>9060</td>\n",
       "      <td>ASERPAKISTAN</td>\n",
       "      <td>Women continue to lag behind!\\nHot off the Pre...</td>\n",
       "      <td>2020-03-08 08:57:52.000000</td>\n",
       "      <td>9057</td>\n",
       "      <td>7.0</td>\n",
       "      <td>0.1443</td>\n",
       "      <td>woman, year, day, work, govern, today, adolesc...</td>\n",
       "      <td>[woman, lag, hot, press, gender, justic, repor...</td>\n",
       "    </tr>\n",
       "  </tbody>\n",
       "</table>\n",
       "<p>9058 rows × 9 columns</p>\n",
       "</div>"
      ],
      "text/plain": [
       "      index   screen_name                                               text  \\\n",
       "0         0   AASCUPolicy  .@MorganStateU Alumna Yogananda D. Pittman App...   \n",
       "1         1   AASCUPolicy  Analysis of Fed Experiment on Short-Term Pell\\...   \n",
       "2         2   AASCUPolicy  On 9.25.1981, Justice Sandra Day O'Connor was ...   \n",
       "3         3   AASCUPolicy  AASCU's @PresMillieG recognized the legacy of ...   \n",
       "4         4   AASCUPolicy  We have lost a pioneer &amp; champion for wome...   \n",
       "...     ...           ...                                                ...   \n",
       "9053   9056  ASERPAKISTAN  Through assessment of children’s basic compete...   \n",
       "9054   9057  ASERPAKISTAN  The latest Annual Status of Education Report @...   \n",
       "9055   9058  ASERPAKISTAN  Our students from Fatima Jinnah Girls High Sch...   \n",
       "9056   9059  ASERPAKISTAN  With evidence that where you have Equality the...   \n",
       "9057   9060  ASERPAKISTAN  Women continue to lag behind!\\nHot off the Pre...   \n",
       "\n",
       "                     created_at  Document_No  Dominant_Topic  \\\n",
       "0    2021-01-12 17:14:20.000000            0             7.0   \n",
       "1    2020-12-16 16:05:14.000000            1             4.0   \n",
       "2    2020-09-25 17:40:04.000000            2             7.0   \n",
       "3    2020-09-21 18:38:10.000000            3             7.0   \n",
       "4    2020-09-19 13:50:38.000001            4             8.0   \n",
       "...                         ...          ...             ...   \n",
       "9053 2020-03-09 11:15:23.000000         9053             8.0   \n",
       "9054 2020-03-09 11:15:18.000000         9054             4.0   \n",
       "9055 2020-03-09 11:15:14.000000         9055             8.0   \n",
       "9056 2020-03-09 04:27:27.000000         9056             5.0   \n",
       "9057 2020-03-08 08:57:52.000000         9057             7.0   \n",
       "\n",
       "      Topic_Perc_Contrib                                           Keywords  \\\n",
       "0                 0.1389  woman, year, day, work, govern, today, adolesc...   \n",
       "1                 0.1667  girl, school, student, social, onlin, action, ...   \n",
       "2                 0.1528  woman, year, day, work, govern, today, adolesc...   \n",
       "3                 0.1406  woman, year, day, work, govern, today, adolesc...   \n",
       "4                 0.1193  educ, gender, equal, chang, learn, teacher, qu...   \n",
       "...                  ...                                                ...   \n",
       "9053              0.1313  educ, gender, equal, chang, learn, teacher, qu...   \n",
       "9054              0.1498  girl, school, student, social, onlin, action, ...   \n",
       "9055              0.1438  educ, gender, equal, chang, learn, teacher, qu...   \n",
       "9056              0.1132  world, endchildmarriag, life, girlsfirstfund, ...   \n",
       "9057              0.1443  woman, year, day, work, govern, today, adolesc...   \n",
       "\n",
       "                                                   Text  \n",
       "0     [alumna, yogananda, pittman, chief, capitol, p...  \n",
       "1     [analysi, experi, short, term, benefit, shorte...  \n",
       "2     [justic, day, sworn, woman, justic, suprem, co...  \n",
       "3     [legaci, justic, ruth, bader, ginsburg, grate,...  \n",
       "4     [pioneer, champion, woman, equal, justic, rgb,...  \n",
       "...                                                 ...  \n",
       "9053  [assess, child, basic, compet, regular, impact...  \n",
       "9054  [latest, annual, status, educ, report, child, ...  \n",
       "9055  [student, jinnah, girl, high, school, shehzada...  \n",
       "9056                                [evid, equal, girl]  \n",
       "9057  [woman, lag, hot, press, gender, justic, repor...  \n",
       "\n",
       "[9058 rows x 9 columns]"
      ]
     },
     "execution_count": 21,
     "metadata": {},
     "output_type": "execute_result"
    }
   ],
   "source": [
    "out_df = pd.concat((twitter_df.iloc[index_list][['screen_name', 'text', 'created_at']].reset_index(), df_dominant_topic), axis=1)\n",
    "out_df"
   ]
  },
  {
   "cell_type": "code",
   "execution_count": 22,
   "id": "superior-asbestos",
   "metadata": {
    "ExecuteTime": {
     "end_time": "2021-03-17T16:51:38.312787Z",
     "start_time": "2021-03-17T16:51:38.037620Z"
    }
   },
   "outputs": [],
   "source": [
    "out_df.to_csv('output.csv', index=False)"
   ]
  },
  {
   "cell_type": "code",
   "execution_count": null,
   "id": "quality-paint",
   "metadata": {},
   "outputs": [],
   "source": []
  }
 ],
 "metadata": {
  "kernelspec": {
   "display_name": "Python 3",
   "language": "python",
   "name": "python3"
  },
  "language_info": {
   "codemirror_mode": {
    "name": "ipython",
    "version": 3
   },
   "file_extension": ".py",
   "mimetype": "text/x-python",
   "name": "python",
   "nbconvert_exporter": "python",
   "pygments_lexer": "ipython3",
   "version": "3.8.8"
  },
  "toc": {
   "base_numbering": 1,
   "nav_menu": {},
   "number_sections": true,
   "sideBar": true,
   "skip_h1_title": false,
   "title_cell": "Table of Contents",
   "title_sidebar": "Contents",
   "toc_cell": false,
   "toc_position": {},
   "toc_section_display": true,
   "toc_window_display": false
  }
 },
 "nbformat": 4,
 "nbformat_minor": 5
}
